{
 "cells": [
  {
   "cell_type": "markdown",
   "metadata": {},
   "source": [
    "### Testing if Notebook is running properly in this Venv"
   ]
  },
  {
   "cell_type": "code",
   "execution_count": 7,
   "metadata": {},
   "outputs": [
    {
     "name": "stdout",
     "output_type": "stream",
     "text": [
      "Hello, World\n",
      "Notebook is running\n"
     ]
    }
   ],
   "source": [
    "print(\"Hello, World\")\n",
    "print(\"Notebook is running\")"
   ]
  },
  {
   "cell_type": "markdown",
   "metadata": {},
   "source": [
    "### Testing if Pyspark is working"
   ]
  },
  {
   "cell_type": "code",
   "execution_count": 8,
   "metadata": {},
   "outputs": [
    {
     "name": "stdout",
     "output_type": "stream",
     "text": [
      "Spark is working\n"
     ]
    }
   ],
   "source": [
    "from pyspark.sql import SparkSession\n",
    "spark = SparkSession.builder.getOrCreate()\n",
    "if spark:\n",
    "    print(\"Spark is working\")\n",
    "spark.stop()"
   ]
  },
  {
   "cell_type": "markdown",
   "metadata": {},
   "source": [
    "### Read files from given path"
   ]
  },
  {
   "cell_type": "code",
   "execution_count": 1,
   "metadata": {},
   "outputs": [],
   "source": [
    "import os\n",
    "\n",
    "# Get the current working directory\n",
    "current_dir = os.getcwd()\n",
    "# print(\"Current directory:\", current_dir)\n",
    "# Get the parent directory\n",
    "parent_dir = os.path.dirname(current_dir)\n",
    "# print(\"Parent directory:\",parent_dir)"
   ]
  },
  {
   "cell_type": "code",
   "execution_count": 2,
   "metadata": {},
   "outputs": [],
   "source": [
    "root_dir = os.path.dirname(os.getcwd())\n",
    "# print(\"Root directory:\",root_dir)"
   ]
  },
  {
   "cell_type": "code",
   "execution_count": 3,
   "metadata": {},
   "outputs": [],
   "source": [
    "input_path = f\"{parent_dir}\\data\\input\"\n",
    "# print(\"input path:\",input_path)\n"
   ]
  },
  {
   "cell_type": "code",
   "execution_count": 12,
   "metadata": {},
   "outputs": [
    {
     "name": "stdout",
     "output_type": "stream",
     "text": [
      "+--------+--------+--------+--------------------+------------+\n",
      "|CRASH_ID|UNIT_NBR|PRSN_NBR|              CHARGE|CITATION_NBR|\n",
      "+--------+--------+--------+--------------------+------------+\n",
      "|14768622|       1|       1|DRIVING WHILE INT...|        NULL|\n",
      "|14838637|       1|       1|                 DWI|  1600000015|\n",
      "|14838641|       1|       1|RAN RED LIGHT SOL...|      L20440|\n",
      "|14838641|       2|       1|NO DRIVER'S LICEN...|      L23141|\n",
      "|14838668|       1|       1|DRIVING WHILE INT...|TX4IC50SRJD3|\n",
      "|14838669|       2|       1|     DWI W/BAC >.015| 2015-000006|\n",
      "|14838670|       1|       1|DRIVING WHILE INT...| 2016-000003|\n",
      "|14838685|       1|       1|FAILED TO DRIVE S...|   138434825|\n",
      "|14838693|       1|       1|DRIVING WHILE INT...|TX4IC60UKQND|\n",
      "|14838768|       2|       1|                 DWI|        NULL|\n",
      "|14838834|       1|       1|  NO DRIVERS LICENSE|    10019200|\n",
      "|14838834|       1|       1|FAIL TO CONTROL S...|    10019200|\n",
      "|14838834|       1|       1|   LEAVING THE SCENE|    10019200|\n",
      "|14838841|       1|       1|       FTLI   / DWLI|    16-43861|\n",
      "|14838841|       1|       1|LEAVING SCENE OF ...|    16-43861|\n",
      "|14838841|       1|       1|FAIL TO DRIVE IN ...|    16-43861|\n",
      "|14838841|       1|       1|FAIL TO REPORT AC...|    16-43861|\n",
      "|14838842|       1|       1|LEAVING SCENE OF ...|    16-43859|\n",
      "|14838842|       1|       1|FAIL TO REPORT AC...|    16-43859|\n",
      "|14838842|       1|       1|FAIL TO DRIVE IN ...|    16-43859|\n",
      "+--------+--------+--------+--------------------+------------+\n",
      "only showing top 20 rows\n",
      "\n"
     ]
    }
   ],
   "source": [
    "from pyspark.sql import SparkSession\n",
    "spark = SparkSession.builder.getOrCreate()\n",
    "\n",
    "charges_path = f\"{input_path}\\Charges_use.csv\"\n",
    "charges_df = spark.read.csv(charges_path, header=True)\n",
    "\n",
    "# Show and write the data\n",
    "charges_df.show()\n",
    "spark.stop()"
   ]
  },
  {
   "cell_type": "markdown",
   "metadata": {},
   "source": [
    "### Data Exploration"
   ]
  },
  {
   "cell_type": "code",
   "execution_count": 13,
   "metadata": {},
   "outputs": [],
   "source": [
    "import pandas as pd"
   ]
  },
  {
   "cell_type": "code",
   "execution_count": 14,
   "metadata": {},
   "outputs": [
    {
     "data": {
      "text/html": [
       "<div>\n",
       "<style scoped>\n",
       "    .dataframe tbody tr th:only-of-type {\n",
       "        vertical-align: middle;\n",
       "    }\n",
       "\n",
       "    .dataframe tbody tr th {\n",
       "        vertical-align: top;\n",
       "    }\n",
       "\n",
       "    .dataframe thead th {\n",
       "        text-align: right;\n",
       "    }\n",
       "</style>\n",
       "<table border=\"1\" class=\"dataframe\">\n",
       "  <thead>\n",
       "    <tr style=\"text-align: right;\">\n",
       "      <th></th>\n",
       "      <th>CRASH_ID</th>\n",
       "      <th>UNIT_NBR</th>\n",
       "      <th>PRSN_NBR</th>\n",
       "      <th>CHARGE</th>\n",
       "      <th>CITATION_NBR</th>\n",
       "    </tr>\n",
       "  </thead>\n",
       "  <tbody>\n",
       "    <tr>\n",
       "      <th>0</th>\n",
       "      <td>14768622</td>\n",
       "      <td>1</td>\n",
       "      <td>1</td>\n",
       "      <td>DRIVING WHILE INTOXICATED</td>\n",
       "      <td>NaN</td>\n",
       "    </tr>\n",
       "    <tr>\n",
       "      <th>1</th>\n",
       "      <td>14838637</td>\n",
       "      <td>1</td>\n",
       "      <td>1</td>\n",
       "      <td>DWI</td>\n",
       "      <td>1600000015</td>\n",
       "    </tr>\n",
       "    <tr>\n",
       "      <th>2</th>\n",
       "      <td>14838641</td>\n",
       "      <td>1</td>\n",
       "      <td>1</td>\n",
       "      <td>RAN RED LIGHT SOLID (TC 544.007)</td>\n",
       "      <td>L20440</td>\n",
       "    </tr>\n",
       "    <tr>\n",
       "      <th>3</th>\n",
       "      <td>14838641</td>\n",
       "      <td>2</td>\n",
       "      <td>1</td>\n",
       "      <td>NO DRIVER'S LICENSE (TC521.025)</td>\n",
       "      <td>L23141</td>\n",
       "    </tr>\n",
       "    <tr>\n",
       "      <th>4</th>\n",
       "      <td>14838668</td>\n",
       "      <td>1</td>\n",
       "      <td>1</td>\n",
       "      <td>DRIVING WHILE INTOXICATED</td>\n",
       "      <td>TX4IC50SRJD3</td>\n",
       "    </tr>\n",
       "  </tbody>\n",
       "</table>\n",
       "</div>"
      ],
      "text/plain": [
       "   CRASH_ID  UNIT_NBR  PRSN_NBR                            CHARGE  \\\n",
       "0  14768622         1         1         DRIVING WHILE INTOXICATED   \n",
       "1  14838637         1         1                               DWI   \n",
       "2  14838641         1         1  RAN RED LIGHT SOLID (TC 544.007)   \n",
       "3  14838641         2         1   NO DRIVER'S LICENSE (TC521.025)   \n",
       "4  14838668         1         1         DRIVING WHILE INTOXICATED   \n",
       "\n",
       "   CITATION_NBR  \n",
       "0           NaN  \n",
       "1    1600000015  \n",
       "2        L20440  \n",
       "3        L23141  \n",
       "4  TX4IC50SRJD3  "
      ]
     },
     "execution_count": 14,
     "metadata": {},
     "output_type": "execute_result"
    }
   ],
   "source": [
    "files = ['Charges_use.csv', 'Damages_use.csv', 'Endorse_use.csv', 'Primary_Person_use.csv', 'Restrict_use.csv', 'Units_use.csv']\n",
    "dfs = ['charges_df', 'damages_df', 'endorse_df', 'primper_df', 'Restrict_df', 'Units_df']\n",
    "\n",
    "charges_df = pd.read_csv(f\"{input_path}/Charges_use.csv\")\n",
    "charges_df.head()"
   ]
  },
  {
   "cell_type": "code",
   "execution_count": 15,
   "metadata": {},
   "outputs": [
    {
     "data": {
      "text/plain": [
       "(116110, 5)"
      ]
     },
     "execution_count": 15,
     "metadata": {},
     "output_type": "execute_result"
    }
   ],
   "source": [
    "charges_df.shape"
   ]
  },
  {
   "cell_type": "code",
   "execution_count": 16,
   "metadata": {},
   "outputs": [
    {
     "name": "stdout",
     "output_type": "stream",
     "text": [
      "<class 'pandas.core.frame.DataFrame'>\n",
      "RangeIndex: 116110 entries, 0 to 116109\n",
      "Data columns (total 5 columns):\n",
      " #   Column        Non-Null Count   Dtype \n",
      "---  ------        --------------   ----- \n",
      " 0   CRASH_ID      116110 non-null  int64 \n",
      " 1   UNIT_NBR      116110 non-null  int64 \n",
      " 2   PRSN_NBR      116110 non-null  int64 \n",
      " 3   CHARGE        116006 non-null  object\n",
      " 4   CITATION_NBR  108751 non-null  object\n",
      "dtypes: int64(3), object(2)\n",
      "memory usage: 4.4+ MB\n",
      "CRASH_ID           0\n",
      "UNIT_NBR           0\n",
      "PRSN_NBR           0\n",
      "CHARGE           104\n",
      "CITATION_NBR    7359\n",
      "dtype: int64\n"
     ]
    }
   ],
   "source": [
    "# Get statistical info\n",
    "charges_df.info()\n",
    "\n",
    "# Get null value counts\n",
    "null_counts = charges_df.isna().sum()\n",
    "\n",
    "print(null_counts)"
   ]
  },
  {
   "cell_type": "code",
   "execution_count": 17,
   "metadata": {},
   "outputs": [
    {
     "data": {
      "text/plain": [
       "CHARGE\n",
       "FAIL TO CONTROL SPEED                                           12852\n",
       "DRIVING WHILE INTOXICATED                                        4692\n",
       "UNSAFE SPEED                                                     4627\n",
       "NO DRIVERS LICENSE                                               3478\n",
       "FAILED TO CONTROL SPEED                                          2882\n",
       "                                                                ...  \n",
       "WARNING ISSUED FOR CHANGED LANES WHEN UNSAFE                        1\n",
       "FAILED TO YIELD ROW STOOP SIGN                                      1\n",
       "FAILED TO CONTROL,RAN STOP SIGN,FAILED TO YIELD ROW STOOP SI        1\n",
       "PASSING TO LEFT, RETURN, BEING PASSED                               1\n",
       "NO DRIVER'S LICENSE (TC521.025)                                     1\n",
       "Name: count, Length: 18771, dtype: int64"
      ]
     },
     "execution_count": 17,
     "metadata": {},
     "output_type": "execute_result"
    }
   ],
   "source": [
    "charges_df.CHARGE.value_counts()"
   ]
  },
  {
   "cell_type": "code",
   "execution_count": 83,
   "metadata": {},
   "outputs": [
    {
     "data": {
      "text/plain": [
       "CHARGE\n",
       "FAIL TO CONTROL SPEED                                           12852\n",
       "UNSAFE SPEED                                                     4627\n",
       "FAILED TO CONTROL SPEED                                          2882\n",
       "FAILURE TO CONTROL SPEED                                         1707\n",
       "FAILED TO CONTROL SPEED (ACCIDENT)                                180\n",
       "                                                                ...  \n",
       "FTC SPEED ACCIDENT                                                  1\n",
       "FAILED TO CONTROL SPEED, NO D.L., DUTY ON STRIKING FIXED OBJ        1\n",
       "FAILURE TO CONTROL SPEED--TXTRC 545.351                             1\n",
       "FAILURE TO CONTROL MOTOR VEHICLE (SPEED), INVALID DL                1\n",
       "NO OPERATOR'S LICENSE, FAILURE TO CONTROL SPEED                     1\n",
       "Name: count, Length: 1299, dtype: int64"
      ]
     },
     "execution_count": 83,
     "metadata": {},
     "output_type": "execute_result"
    }
   ],
   "source": [
    "a = charges_df[charges_df[\"CHARGE\"].str.contains(\"SPEED\", case=False, na=False)]\n",
    "a.CHARGE.value_counts()"
   ]
  },
  {
   "cell_type": "code",
   "execution_count": 18,
   "metadata": {},
   "outputs": [
    {
     "data": {
      "text/plain": [
       "CITATION_NBR    7359\n",
       "CHARGE           104\n",
       "CRASH_ID           0\n",
       "PRSN_NBR           0\n",
       "UNIT_NBR           0\n",
       "dtype: int64"
      ]
     },
     "execution_count": 18,
     "metadata": {},
     "output_type": "execute_result"
    }
   ],
   "source": [
    "charges_df.isna().sum().sort_values(ascending = False)"
   ]
  },
  {
   "cell_type": "code",
   "execution_count": 19,
   "metadata": {},
   "outputs": [
    {
     "data": {
      "text/html": [
       "<div>\n",
       "<style scoped>\n",
       "    .dataframe tbody tr th:only-of-type {\n",
       "        vertical-align: middle;\n",
       "    }\n",
       "\n",
       "    .dataframe tbody tr th {\n",
       "        vertical-align: top;\n",
       "    }\n",
       "\n",
       "    .dataframe thead th {\n",
       "        text-align: right;\n",
       "    }\n",
       "</style>\n",
       "<table border=\"1\" class=\"dataframe\">\n",
       "  <thead>\n",
       "    <tr style=\"text-align: right;\">\n",
       "      <th></th>\n",
       "      <th>CRASH_ID</th>\n",
       "      <th>DAMAGED_PROPERTY</th>\n",
       "    </tr>\n",
       "  </thead>\n",
       "  <tbody>\n",
       "    <tr>\n",
       "      <th>0</th>\n",
       "      <td>14768622</td>\n",
       "      <td>MAILBOX</td>\n",
       "    </tr>\n",
       "    <tr>\n",
       "      <th>1</th>\n",
       "      <td>14768622</td>\n",
       "      <td>YARD, GRASS</td>\n",
       "    </tr>\n",
       "    <tr>\n",
       "      <th>2</th>\n",
       "      <td>14838668</td>\n",
       "      <td>GUARDRAIL</td>\n",
       "    </tr>\n",
       "    <tr>\n",
       "      <th>3</th>\n",
       "      <td>14838685</td>\n",
       "      <td>ROAD SIGN</td>\n",
       "    </tr>\n",
       "    <tr>\n",
       "      <th>4</th>\n",
       "      <td>14838693</td>\n",
       "      <td>2009 MAZDA 3</td>\n",
       "    </tr>\n",
       "  </tbody>\n",
       "</table>\n",
       "</div>"
      ],
      "text/plain": [
       "   CRASH_ID DAMAGED_PROPERTY\n",
       "0  14768622          MAILBOX\n",
       "1  14768622      YARD, GRASS\n",
       "2  14838668        GUARDRAIL\n",
       "3  14838685        ROAD SIGN\n",
       "4  14838693     2009 MAZDA 3"
      ]
     },
     "execution_count": 19,
     "metadata": {},
     "output_type": "execute_result"
    }
   ],
   "source": [
    "damages_df = pd.read_csv(f\"{input_path}/Damages_use.csv\")\n",
    "damages_df.head()"
   ]
  },
  {
   "cell_type": "code",
   "execution_count": 20,
   "metadata": {},
   "outputs": [
    {
     "name": "stdout",
     "output_type": "stream",
     "text": [
      "<class 'pandas.core.frame.DataFrame'>\n",
      "RangeIndex: 24950 entries, 0 to 24949\n",
      "Data columns (total 2 columns):\n",
      " #   Column            Non-Null Count  Dtype \n",
      "---  ------            --------------  ----- \n",
      " 0   CRASH_ID          24950 non-null  int64 \n",
      " 1   DAMAGED_PROPERTY  24944 non-null  object\n",
      "dtypes: int64(1), object(1)\n",
      "memory usage: 390.0+ KB\n"
     ]
    }
   ],
   "source": [
    "damages_df.info()"
   ]
  },
  {
   "cell_type": "code",
   "execution_count": 21,
   "metadata": {},
   "outputs": [
    {
     "data": {
      "text/plain": [
       "(24950, 2)"
      ]
     },
     "execution_count": 21,
     "metadata": {},
     "output_type": "execute_result"
    }
   ],
   "source": [
    "damages_df.shape"
   ]
  },
  {
   "cell_type": "code",
   "execution_count": 77,
   "metadata": {},
   "outputs": [
    {
     "data": {
      "text/plain": [
       "DAMAGED_PROPERTY\n",
       "FENCE                                    1411\n",
       "GUARD RAIL                                687\n",
       "LIGHT POLE                                588\n",
       "MAILBOX                                   524\n",
       "GUARDRAIL                                 524\n",
       "                                         ... \n",
       "DAMAGED POLE# 661729                        1\n",
       "CONTRETE BARRIAR - SCUFFS                   1\n",
       "CRASH BARREL'S                              1\n",
       "CALIBER CONTROL, INC.  PROPERTY FENCE       1\n",
       "TRAFFIC SIGN POLE                           1\n",
       "Name: count, Length: 10302, dtype: int64"
      ]
     },
     "execution_count": 77,
     "metadata": {},
     "output_type": "execute_result"
    }
   ],
   "source": [
    "damages_df.DAMAGED_PROPERTY.value_counts()"
   ]
  },
  {
   "cell_type": "code",
   "execution_count": 22,
   "metadata": {},
   "outputs": [
    {
     "data": {
      "text/plain": [
       "DAMAGED_PROPERTY    6\n",
       "CRASH_ID            0\n",
       "dtype: int64"
      ]
     },
     "execution_count": 22,
     "metadata": {},
     "output_type": "execute_result"
    }
   ],
   "source": [
    "damages_df.isna().sum().sort_values(ascending = False)"
   ]
  },
  {
   "cell_type": "code",
   "execution_count": 23,
   "metadata": {},
   "outputs": [
    {
     "data": {
      "text/html": [
       "<div>\n",
       "<style scoped>\n",
       "    .dataframe tbody tr th:only-of-type {\n",
       "        vertical-align: middle;\n",
       "    }\n",
       "\n",
       "    .dataframe tbody tr th {\n",
       "        vertical-align: top;\n",
       "    }\n",
       "\n",
       "    .dataframe thead th {\n",
       "        text-align: right;\n",
       "    }\n",
       "</style>\n",
       "<table border=\"1\" class=\"dataframe\">\n",
       "  <thead>\n",
       "    <tr style=\"text-align: right;\">\n",
       "      <th></th>\n",
       "      <th>CRASH_ID</th>\n",
       "      <th>UNIT_NBR</th>\n",
       "      <th>DRVR_LIC_ENDORS_ID</th>\n",
       "    </tr>\n",
       "  </thead>\n",
       "  <tbody>\n",
       "    <tr>\n",
       "      <th>0</th>\n",
       "      <td>14768622</td>\n",
       "      <td>1</td>\n",
       "      <td>NONE</td>\n",
       "    </tr>\n",
       "    <tr>\n",
       "      <th>1</th>\n",
       "      <td>14838637</td>\n",
       "      <td>1</td>\n",
       "      <td>NONE</td>\n",
       "    </tr>\n",
       "    <tr>\n",
       "      <th>2</th>\n",
       "      <td>14838637</td>\n",
       "      <td>2</td>\n",
       "      <td>NONE</td>\n",
       "    </tr>\n",
       "    <tr>\n",
       "      <th>3</th>\n",
       "      <td>14838641</td>\n",
       "      <td>1</td>\n",
       "      <td>NONE</td>\n",
       "    </tr>\n",
       "    <tr>\n",
       "      <th>4</th>\n",
       "      <td>14838641</td>\n",
       "      <td>2</td>\n",
       "      <td>UNLICENSED</td>\n",
       "    </tr>\n",
       "  </tbody>\n",
       "</table>\n",
       "</div>"
      ],
      "text/plain": [
       "   CRASH_ID  UNIT_NBR DRVR_LIC_ENDORS_ID\n",
       "0  14768622         1               NONE\n",
       "1  14838637         1               NONE\n",
       "2  14838637         2               NONE\n",
       "3  14838641         1               NONE\n",
       "4  14838641         2         UNLICENSED"
      ]
     },
     "execution_count": 23,
     "metadata": {},
     "output_type": "execute_result"
    }
   ],
   "source": [
    "endorse_df = pd.read_csv(f\"{input_path}/Endorse_use.csv\")\n",
    "endorse_df.head()"
   ]
  },
  {
   "cell_type": "code",
   "execution_count": 24,
   "metadata": {},
   "outputs": [
    {
     "name": "stdout",
     "output_type": "stream",
     "text": [
      "<class 'pandas.core.frame.DataFrame'>\n",
      "RangeIndex: 159818 entries, 0 to 159817\n",
      "Data columns (total 3 columns):\n",
      " #   Column              Non-Null Count   Dtype \n",
      "---  ------              --------------   ----- \n",
      " 0   CRASH_ID            159818 non-null  int64 \n",
      " 1   UNIT_NBR            159818 non-null  int64 \n",
      " 2   DRVR_LIC_ENDORS_ID  159818 non-null  object\n",
      "dtypes: int64(2), object(1)\n",
      "memory usage: 3.7+ MB\n"
     ]
    }
   ],
   "source": [
    "endorse_df.info()"
   ]
  },
  {
   "cell_type": "code",
   "execution_count": 25,
   "metadata": {},
   "outputs": [
    {
     "data": {
      "text/plain": [
       "(159818, 3)"
      ]
     },
     "execution_count": 25,
     "metadata": {},
     "output_type": "execute_result"
    }
   ],
   "source": [
    "endorse_df.shape"
   ]
  },
  {
   "cell_type": "code",
   "execution_count": 26,
   "metadata": {},
   "outputs": [
    {
     "data": {
      "text/plain": [
       "CRASH_ID              0\n",
       "UNIT_NBR              0\n",
       "DRVR_LIC_ENDORS_ID    0\n",
       "dtype: int64"
      ]
     },
     "execution_count": 26,
     "metadata": {},
     "output_type": "execute_result"
    }
   ],
   "source": [
    "endorse_df.isna().sum().sort_values(ascending = False)"
   ]
  },
  {
   "cell_type": "code",
   "execution_count": 27,
   "metadata": {},
   "outputs": [
    {
     "data": {
      "text/html": [
       "<div>\n",
       "<style scoped>\n",
       "    .dataframe tbody tr th:only-of-type {\n",
       "        vertical-align: middle;\n",
       "    }\n",
       "\n",
       "    .dataframe tbody tr th {\n",
       "        vertical-align: top;\n",
       "    }\n",
       "\n",
       "    .dataframe thead th {\n",
       "        text-align: right;\n",
       "    }\n",
       "</style>\n",
       "<table border=\"1\" class=\"dataframe\">\n",
       "  <thead>\n",
       "    <tr style=\"text-align: right;\">\n",
       "      <th></th>\n",
       "      <th>CRASH_ID</th>\n",
       "      <th>UNIT_NBR</th>\n",
       "      <th>PRSN_NBR</th>\n",
       "      <th>PRSN_TYPE_ID</th>\n",
       "      <th>PRSN_OCCPNT_POS_ID</th>\n",
       "      <th>PRSN_INJRY_SEV_ID</th>\n",
       "      <th>PRSN_AGE</th>\n",
       "      <th>PRSN_ETHNICITY_ID</th>\n",
       "      <th>PRSN_GNDR_ID</th>\n",
       "      <th>PRSN_EJCT_ID</th>\n",
       "      <th>...</th>\n",
       "      <th>NONINCAP_INJRY_CNT</th>\n",
       "      <th>POSS_INJRY_CNT</th>\n",
       "      <th>NON_INJRY_CNT</th>\n",
       "      <th>UNKN_INJRY_CNT</th>\n",
       "      <th>TOT_INJRY_CNT</th>\n",
       "      <th>DEATH_CNT</th>\n",
       "      <th>DRVR_LIC_TYPE_ID</th>\n",
       "      <th>DRVR_LIC_STATE_ID</th>\n",
       "      <th>DRVR_LIC_CLS_ID</th>\n",
       "      <th>DRVR_ZIP</th>\n",
       "    </tr>\n",
       "  </thead>\n",
       "  <tbody>\n",
       "    <tr>\n",
       "      <th>0</th>\n",
       "      <td>14768622</td>\n",
       "      <td>1</td>\n",
       "      <td>1</td>\n",
       "      <td>DRIVER</td>\n",
       "      <td>FRONT LEFT</td>\n",
       "      <td>NOT INJURED</td>\n",
       "      <td>27.0</td>\n",
       "      <td>HISPANIC</td>\n",
       "      <td>MALE</td>\n",
       "      <td>NO</td>\n",
       "      <td>...</td>\n",
       "      <td>0</td>\n",
       "      <td>0</td>\n",
       "      <td>1</td>\n",
       "      <td>0</td>\n",
       "      <td>0</td>\n",
       "      <td>0</td>\n",
       "      <td>DRIVER LICENSE</td>\n",
       "      <td>Texas</td>\n",
       "      <td>CLASS C</td>\n",
       "      <td>77357</td>\n",
       "    </tr>\n",
       "    <tr>\n",
       "      <th>1</th>\n",
       "      <td>14838637</td>\n",
       "      <td>1</td>\n",
       "      <td>1</td>\n",
       "      <td>DRIVER</td>\n",
       "      <td>FRONT LEFT</td>\n",
       "      <td>NOT INJURED</td>\n",
       "      <td>31.0</td>\n",
       "      <td>WHITE</td>\n",
       "      <td>MALE</td>\n",
       "      <td>NO</td>\n",
       "      <td>...</td>\n",
       "      <td>0</td>\n",
       "      <td>0</td>\n",
       "      <td>1</td>\n",
       "      <td>0</td>\n",
       "      <td>0</td>\n",
       "      <td>0</td>\n",
       "      <td>DRIVER LICENSE</td>\n",
       "      <td>New York</td>\n",
       "      <td>OTHER/OUT OF STATE</td>\n",
       "      <td>13830</td>\n",
       "    </tr>\n",
       "    <tr>\n",
       "      <th>2</th>\n",
       "      <td>14838637</td>\n",
       "      <td>2</td>\n",
       "      <td>1</td>\n",
       "      <td>DRIVER</td>\n",
       "      <td>FRONT LEFT</td>\n",
       "      <td>NOT INJURED</td>\n",
       "      <td>41.0</td>\n",
       "      <td>BLACK</td>\n",
       "      <td>MALE</td>\n",
       "      <td>NO</td>\n",
       "      <td>...</td>\n",
       "      <td>0</td>\n",
       "      <td>0</td>\n",
       "      <td>1</td>\n",
       "      <td>0</td>\n",
       "      <td>0</td>\n",
       "      <td>0</td>\n",
       "      <td>COMMERCIAL DRIVER LIC.</td>\n",
       "      <td>Texas</td>\n",
       "      <td>CLASS A</td>\n",
       "      <td>78934</td>\n",
       "    </tr>\n",
       "    <tr>\n",
       "      <th>3</th>\n",
       "      <td>14838641</td>\n",
       "      <td>1</td>\n",
       "      <td>1</td>\n",
       "      <td>DRIVER</td>\n",
       "      <td>FRONT LEFT</td>\n",
       "      <td>POSSIBLE INJURY</td>\n",
       "      <td>32.0</td>\n",
       "      <td>WHITE</td>\n",
       "      <td>MALE</td>\n",
       "      <td>NO</td>\n",
       "      <td>...</td>\n",
       "      <td>0</td>\n",
       "      <td>1</td>\n",
       "      <td>0</td>\n",
       "      <td>0</td>\n",
       "      <td>1</td>\n",
       "      <td>0</td>\n",
       "      <td>DRIVER LICENSE</td>\n",
       "      <td>Texas</td>\n",
       "      <td>CLASS C</td>\n",
       "      <td>76520</td>\n",
       "    </tr>\n",
       "    <tr>\n",
       "      <th>4</th>\n",
       "      <td>14838641</td>\n",
       "      <td>2</td>\n",
       "      <td>1</td>\n",
       "      <td>DRIVER</td>\n",
       "      <td>FRONT LEFT</td>\n",
       "      <td>NON-INCAPACITATING INJURY</td>\n",
       "      <td>34.0</td>\n",
       "      <td>BLACK</td>\n",
       "      <td>FEMALE</td>\n",
       "      <td>NO</td>\n",
       "      <td>...</td>\n",
       "      <td>1</td>\n",
       "      <td>0</td>\n",
       "      <td>0</td>\n",
       "      <td>0</td>\n",
       "      <td>1</td>\n",
       "      <td>0</td>\n",
       "      <td>ID CARD</td>\n",
       "      <td>Texas</td>\n",
       "      <td>UNLICENSED</td>\n",
       "      <td>76707</td>\n",
       "    </tr>\n",
       "  </tbody>\n",
       "</table>\n",
       "<p>5 rows × 32 columns</p>\n",
       "</div>"
      ],
      "text/plain": [
       "   CRASH_ID  UNIT_NBR  PRSN_NBR PRSN_TYPE_ID PRSN_OCCPNT_POS_ID  \\\n",
       "0  14768622         1         1       DRIVER         FRONT LEFT   \n",
       "1  14838637         1         1       DRIVER         FRONT LEFT   \n",
       "2  14838637         2         1       DRIVER         FRONT LEFT   \n",
       "3  14838641         1         1       DRIVER         FRONT LEFT   \n",
       "4  14838641         2         1       DRIVER         FRONT LEFT   \n",
       "\n",
       "           PRSN_INJRY_SEV_ID  PRSN_AGE PRSN_ETHNICITY_ID PRSN_GNDR_ID  \\\n",
       "0                NOT INJURED      27.0          HISPANIC         MALE   \n",
       "1                NOT INJURED      31.0             WHITE         MALE   \n",
       "2                NOT INJURED      41.0             BLACK         MALE   \n",
       "3            POSSIBLE INJURY      32.0             WHITE         MALE   \n",
       "4  NON-INCAPACITATING INJURY      34.0             BLACK       FEMALE   \n",
       "\n",
       "  PRSN_EJCT_ID  ... NONINCAP_INJRY_CNT POSS_INJRY_CNT NON_INJRY_CNT  \\\n",
       "0           NO  ...                  0              0             1   \n",
       "1           NO  ...                  0              0             1   \n",
       "2           NO  ...                  0              0             1   \n",
       "3           NO  ...                  0              1             0   \n",
       "4           NO  ...                  1              0             0   \n",
       "\n",
       "  UNKN_INJRY_CNT TOT_INJRY_CNT DEATH_CNT        DRVR_LIC_TYPE_ID  \\\n",
       "0              0             0         0          DRIVER LICENSE   \n",
       "1              0             0         0          DRIVER LICENSE   \n",
       "2              0             0         0  COMMERCIAL DRIVER LIC.   \n",
       "3              0             1         0          DRIVER LICENSE   \n",
       "4              0             1         0                 ID CARD   \n",
       "\n",
       "  DRVR_LIC_STATE_ID     DRVR_LIC_CLS_ID DRVR_ZIP  \n",
       "0             Texas             CLASS C    77357  \n",
       "1          New York  OTHER/OUT OF STATE    13830  \n",
       "2             Texas             CLASS A    78934  \n",
       "3             Texas             CLASS C    76520  \n",
       "4             Texas          UNLICENSED    76707  \n",
       "\n",
       "[5 rows x 32 columns]"
      ]
     },
     "execution_count": 27,
     "metadata": {},
     "output_type": "execute_result"
    }
   ],
   "source": [
    "primper_df = pd.read_csv(f\"{input_path}/Primary_Person_use.csv\")\n",
    "primper_df.head()"
   ]
  },
  {
   "cell_type": "code",
   "execution_count": 28,
   "metadata": {},
   "outputs": [
    {
     "name": "stdout",
     "output_type": "stream",
     "text": [
      "<class 'pandas.core.frame.DataFrame'>\n",
      "RangeIndex: 156954 entries, 0 to 156953\n",
      "Data columns (total 32 columns):\n",
      " #   Column                 Non-Null Count   Dtype  \n",
      "---  ------                 --------------   -----  \n",
      " 0   CRASH_ID               156954 non-null  int64  \n",
      " 1   UNIT_NBR               156954 non-null  int64  \n",
      " 2   PRSN_NBR               156954 non-null  int64  \n",
      " 3   PRSN_TYPE_ID           156954 non-null  object \n",
      " 4   PRSN_OCCPNT_POS_ID     156954 non-null  object \n",
      " 5   PRSN_INJRY_SEV_ID      156935 non-null  object \n",
      " 6   PRSN_AGE               154924 non-null  float64\n",
      " 7   PRSN_ETHNICITY_ID      156680 non-null  object \n",
      " 8   PRSN_GNDR_ID           156935 non-null  object \n",
      " 9   PRSN_EJCT_ID           156935 non-null  object \n",
      " 10  PRSN_REST_ID           156935 non-null  object \n",
      " 11  PRSN_AIRBAG_ID         156935 non-null  object \n",
      " 12  PRSN_HELMET_ID         156954 non-null  object \n",
      " 13  PRSN_SOL_FL            156935 non-null  object \n",
      " 14  PRSN_ALC_SPEC_TYPE_ID  156935 non-null  object \n",
      " 15  PRSN_ALC_RSLT_ID       8243 non-null    object \n",
      " 16  PRSN_BAC_TEST_RSLT     8243 non-null    float64\n",
      " 17  PRSN_DRG_SPEC_TYPE_ID  156935 non-null  object \n",
      " 18  PRSN_DRG_RSLT_ID       156935 non-null  object \n",
      " 19  DRVR_DRG_CAT_1_ID      156935 non-null  object \n",
      " 20  PRSN_DEATH_TIME        246 non-null     object \n",
      " 21  INCAP_INJRY_CNT        156954 non-null  int64  \n",
      " 22  NONINCAP_INJRY_CNT     156954 non-null  int64  \n",
      " 23  POSS_INJRY_CNT         156954 non-null  int64  \n",
      " 24  NON_INJRY_CNT          156954 non-null  int64  \n",
      " 25  UNKN_INJRY_CNT         156954 non-null  int64  \n",
      " 26  TOT_INJRY_CNT          156954 non-null  int64  \n",
      " 27  DEATH_CNT              156954 non-null  int64  \n",
      " 28  DRVR_LIC_TYPE_ID       156088 non-null  object \n",
      " 29  DRVR_LIC_STATE_ID      147100 non-null  object \n",
      " 30  DRVR_LIC_CLS_ID        156088 non-null  object \n",
      " 31  DRVR_ZIP               152528 non-null  object \n",
      "dtypes: float64(2), int64(10), object(20)\n",
      "memory usage: 38.3+ MB\n"
     ]
    }
   ],
   "source": [
    "primper_df.info()"
   ]
  },
  {
   "cell_type": "code",
   "execution_count": 29,
   "metadata": {},
   "outputs": [
    {
     "data": {
      "text/plain": [
       "(156954, 32)"
      ]
     },
     "execution_count": 29,
     "metadata": {},
     "output_type": "execute_result"
    }
   ],
   "source": [
    "primper_df.shape"
   ]
  },
  {
   "cell_type": "code",
   "execution_count": 53,
   "metadata": {},
   "outputs": [
    {
     "data": {
      "text/html": [
       "<div>\n",
       "<style scoped>\n",
       "    .dataframe tbody tr th:only-of-type {\n",
       "        vertical-align: middle;\n",
       "    }\n",
       "\n",
       "    .dataframe tbody tr th {\n",
       "        vertical-align: top;\n",
       "    }\n",
       "\n",
       "    .dataframe thead th {\n",
       "        text-align: right;\n",
       "    }\n",
       "</style>\n",
       "<table border=\"1\" class=\"dataframe\">\n",
       "  <thead>\n",
       "    <tr style=\"text-align: right;\">\n",
       "      <th></th>\n",
       "      <th>CRASH_ID</th>\n",
       "      <th>UNIT_NBR</th>\n",
       "      <th>PRSN_NBR</th>\n",
       "      <th>PRSN_TYPE_ID</th>\n",
       "      <th>PRSN_OCCPNT_POS_ID</th>\n",
       "      <th>PRSN_INJRY_SEV_ID</th>\n",
       "      <th>PRSN_AGE</th>\n",
       "      <th>PRSN_ETHNICITY_ID</th>\n",
       "      <th>PRSN_GNDR_ID</th>\n",
       "      <th>PRSN_EJCT_ID</th>\n",
       "      <th>...</th>\n",
       "      <th>NONINCAP_INJRY_CNT</th>\n",
       "      <th>POSS_INJRY_CNT</th>\n",
       "      <th>NON_INJRY_CNT</th>\n",
       "      <th>UNKN_INJRY_CNT</th>\n",
       "      <th>TOT_INJRY_CNT</th>\n",
       "      <th>DEATH_CNT</th>\n",
       "      <th>DRVR_LIC_TYPE_ID</th>\n",
       "      <th>DRVR_LIC_STATE_ID</th>\n",
       "      <th>DRVR_LIC_CLS_ID</th>\n",
       "      <th>DRVR_ZIP</th>\n",
       "    </tr>\n",
       "  </thead>\n",
       "  <tbody>\n",
       "    <tr>\n",
       "      <th>1187</th>\n",
       "      <td>14848300</td>\n",
       "      <td>2</td>\n",
       "      <td>1</td>\n",
       "      <td>DRIVER</td>\n",
       "      <td>FRONT LEFT</td>\n",
       "      <td>KILLED</td>\n",
       "      <td>38.0</td>\n",
       "      <td>WHITE</td>\n",
       "      <td>MALE</td>\n",
       "      <td>NO</td>\n",
       "      <td>...</td>\n",
       "      <td>0</td>\n",
       "      <td>0</td>\n",
       "      <td>0</td>\n",
       "      <td>0</td>\n",
       "      <td>0</td>\n",
       "      <td>1</td>\n",
       "      <td>DRIVER LICENSE</td>\n",
       "      <td>Texas</td>\n",
       "      <td>CLASS C</td>\n",
       "      <td>76574</td>\n",
       "    </tr>\n",
       "    <tr>\n",
       "      <th>2079</th>\n",
       "      <td>14851818</td>\n",
       "      <td>2</td>\n",
       "      <td>1</td>\n",
       "      <td>DRIVER</td>\n",
       "      <td>FRONT LEFT</td>\n",
       "      <td>KILLED</td>\n",
       "      <td>29.0</td>\n",
       "      <td>HISPANIC</td>\n",
       "      <td>MALE</td>\n",
       "      <td>NO</td>\n",
       "      <td>...</td>\n",
       "      <td>0</td>\n",
       "      <td>0</td>\n",
       "      <td>0</td>\n",
       "      <td>0</td>\n",
       "      <td>0</td>\n",
       "      <td>1</td>\n",
       "      <td>DRIVER LICENSE</td>\n",
       "      <td>Texas</td>\n",
       "      <td>CLASS C</td>\n",
       "      <td>78202</td>\n",
       "    </tr>\n",
       "    <tr>\n",
       "      <th>2121</th>\n",
       "      <td>14851954</td>\n",
       "      <td>2</td>\n",
       "      <td>1</td>\n",
       "      <td>DRIVER</td>\n",
       "      <td>FRONT LEFT</td>\n",
       "      <td>KILLED</td>\n",
       "      <td>26.0</td>\n",
       "      <td>WHITE</td>\n",
       "      <td>MALE</td>\n",
       "      <td>NO</td>\n",
       "      <td>...</td>\n",
       "      <td>0</td>\n",
       "      <td>0</td>\n",
       "      <td>0</td>\n",
       "      <td>0</td>\n",
       "      <td>0</td>\n",
       "      <td>1</td>\n",
       "      <td>DRIVER LICENSE</td>\n",
       "      <td>Texas</td>\n",
       "      <td>CLASS C</td>\n",
       "      <td>79849</td>\n",
       "    </tr>\n",
       "    <tr>\n",
       "      <th>2314</th>\n",
       "      <td>14852533</td>\n",
       "      <td>2</td>\n",
       "      <td>1</td>\n",
       "      <td>PEDESTRIAN</td>\n",
       "      <td>PEDESTRIAN, PEDALCYCLIST, OR MOTORIZED CONVEYANCE</td>\n",
       "      <td>KILLED</td>\n",
       "      <td>37.0</td>\n",
       "      <td>BLACK</td>\n",
       "      <td>MALE</td>\n",
       "      <td>NOT APPLICABLE</td>\n",
       "      <td>...</td>\n",
       "      <td>0</td>\n",
       "      <td>0</td>\n",
       "      <td>0</td>\n",
       "      <td>0</td>\n",
       "      <td>0</td>\n",
       "      <td>1</td>\n",
       "      <td>DRIVER LICENSE</td>\n",
       "      <td>Mississippi</td>\n",
       "      <td>OTHER/OUT OF STATE</td>\n",
       "      <td>38930</td>\n",
       "    </tr>\n",
       "    <tr>\n",
       "      <th>2644</th>\n",
       "      <td>14854567</td>\n",
       "      <td>3</td>\n",
       "      <td>1</td>\n",
       "      <td>DRIVER</td>\n",
       "      <td>FRONT LEFT</td>\n",
       "      <td>KILLED</td>\n",
       "      <td>77.0</td>\n",
       "      <td>BLACK</td>\n",
       "      <td>MALE</td>\n",
       "      <td>NO</td>\n",
       "      <td>...</td>\n",
       "      <td>0</td>\n",
       "      <td>0</td>\n",
       "      <td>0</td>\n",
       "      <td>0</td>\n",
       "      <td>0</td>\n",
       "      <td>1</td>\n",
       "      <td>DRIVER LICENSE</td>\n",
       "      <td>Texas</td>\n",
       "      <td>CLASS C</td>\n",
       "      <td>77412</td>\n",
       "    </tr>\n",
       "    <tr>\n",
       "      <th>...</th>\n",
       "      <td>...</td>\n",
       "      <td>...</td>\n",
       "      <td>...</td>\n",
       "      <td>...</td>\n",
       "      <td>...</td>\n",
       "      <td>...</td>\n",
       "      <td>...</td>\n",
       "      <td>...</td>\n",
       "      <td>...</td>\n",
       "      <td>...</td>\n",
       "      <td>...</td>\n",
       "      <td>...</td>\n",
       "      <td>...</td>\n",
       "      <td>...</td>\n",
       "      <td>...</td>\n",
       "      <td>...</td>\n",
       "      <td>...</td>\n",
       "      <td>...</td>\n",
       "      <td>...</td>\n",
       "      <td>...</td>\n",
       "      <td>...</td>\n",
       "    </tr>\n",
       "    <tr>\n",
       "      <th>154124</th>\n",
       "      <td>15503748</td>\n",
       "      <td>1</td>\n",
       "      <td>1</td>\n",
       "      <td>DRIVER</td>\n",
       "      <td>FRONT LEFT</td>\n",
       "      <td>KILLED</td>\n",
       "      <td>97.0</td>\n",
       "      <td>HISPANIC</td>\n",
       "      <td>MALE</td>\n",
       "      <td>NO</td>\n",
       "      <td>...</td>\n",
       "      <td>0</td>\n",
       "      <td>0</td>\n",
       "      <td>0</td>\n",
       "      <td>0</td>\n",
       "      <td>0</td>\n",
       "      <td>1</td>\n",
       "      <td>DRIVER LICENSE</td>\n",
       "      <td>Texas</td>\n",
       "      <td>CLASS C</td>\n",
       "      <td>79930</td>\n",
       "    </tr>\n",
       "    <tr>\n",
       "      <th>154489</th>\n",
       "      <td>15506999</td>\n",
       "      <td>1</td>\n",
       "      <td>1</td>\n",
       "      <td>DRIVER</td>\n",
       "      <td>FRONT LEFT</td>\n",
       "      <td>KILLED</td>\n",
       "      <td>57.0</td>\n",
       "      <td>BLACK</td>\n",
       "      <td>MALE</td>\n",
       "      <td>NO</td>\n",
       "      <td>...</td>\n",
       "      <td>0</td>\n",
       "      <td>0</td>\n",
       "      <td>0</td>\n",
       "      <td>0</td>\n",
       "      <td>0</td>\n",
       "      <td>1</td>\n",
       "      <td>COMMERCIAL DRIVER LIC.</td>\n",
       "      <td>Texas</td>\n",
       "      <td>CLASS A</td>\n",
       "      <td>75860</td>\n",
       "    </tr>\n",
       "    <tr>\n",
       "      <th>154992</th>\n",
       "      <td>15511556</td>\n",
       "      <td>1</td>\n",
       "      <td>1</td>\n",
       "      <td>DRIVER</td>\n",
       "      <td>FRONT LEFT</td>\n",
       "      <td>KILLED</td>\n",
       "      <td>88.0</td>\n",
       "      <td>WHITE</td>\n",
       "      <td>MALE</td>\n",
       "      <td>NO</td>\n",
       "      <td>...</td>\n",
       "      <td>0</td>\n",
       "      <td>0</td>\n",
       "      <td>0</td>\n",
       "      <td>0</td>\n",
       "      <td>0</td>\n",
       "      <td>1</td>\n",
       "      <td>DRIVER LICENSE</td>\n",
       "      <td>Texas</td>\n",
       "      <td>CLASS C</td>\n",
       "      <td>79057</td>\n",
       "    </tr>\n",
       "    <tr>\n",
       "      <th>155420</th>\n",
       "      <td>15515080</td>\n",
       "      <td>2</td>\n",
       "      <td>1</td>\n",
       "      <td>PEDESTRIAN</td>\n",
       "      <td>PEDESTRIAN, PEDALCYCLIST, OR MOTORIZED CONVEYANCE</td>\n",
       "      <td>KILLED</td>\n",
       "      <td>41.0</td>\n",
       "      <td>WHITE</td>\n",
       "      <td>MALE</td>\n",
       "      <td>NOT APPLICABLE</td>\n",
       "      <td>...</td>\n",
       "      <td>0</td>\n",
       "      <td>0</td>\n",
       "      <td>0</td>\n",
       "      <td>0</td>\n",
       "      <td>0</td>\n",
       "      <td>1</td>\n",
       "      <td>DRIVER LICENSE</td>\n",
       "      <td>Texas</td>\n",
       "      <td>CLASS C</td>\n",
       "      <td>77662</td>\n",
       "    </tr>\n",
       "    <tr>\n",
       "      <th>155493</th>\n",
       "      <td>15515566</td>\n",
       "      <td>2</td>\n",
       "      <td>1</td>\n",
       "      <td>DRIVER</td>\n",
       "      <td>FRONT LEFT</td>\n",
       "      <td>KILLED</td>\n",
       "      <td>80.0</td>\n",
       "      <td>WHITE</td>\n",
       "      <td>FEMALE</td>\n",
       "      <td>YES</td>\n",
       "      <td>...</td>\n",
       "      <td>0</td>\n",
       "      <td>0</td>\n",
       "      <td>0</td>\n",
       "      <td>0</td>\n",
       "      <td>0</td>\n",
       "      <td>1</td>\n",
       "      <td>DRIVER LICENSE</td>\n",
       "      <td>Texas</td>\n",
       "      <td>CLASS C</td>\n",
       "      <td>79323</td>\n",
       "    </tr>\n",
       "  </tbody>\n",
       "</table>\n",
       "<p>246 rows × 32 columns</p>\n",
       "</div>"
      ],
      "text/plain": [
       "        CRASH_ID  UNIT_NBR  PRSN_NBR PRSN_TYPE_ID  \\\n",
       "1187    14848300         2         1       DRIVER   \n",
       "2079    14851818         2         1       DRIVER   \n",
       "2121    14851954         2         1       DRIVER   \n",
       "2314    14852533         2         1   PEDESTRIAN   \n",
       "2644    14854567         3         1       DRIVER   \n",
       "...          ...       ...       ...          ...   \n",
       "154124  15503748         1         1       DRIVER   \n",
       "154489  15506999         1         1       DRIVER   \n",
       "154992  15511556         1         1       DRIVER   \n",
       "155420  15515080         2         1   PEDESTRIAN   \n",
       "155493  15515566         2         1       DRIVER   \n",
       "\n",
       "                                       PRSN_OCCPNT_POS_ID PRSN_INJRY_SEV_ID  \\\n",
       "1187                                           FRONT LEFT            KILLED   \n",
       "2079                                           FRONT LEFT            KILLED   \n",
       "2121                                           FRONT LEFT            KILLED   \n",
       "2314    PEDESTRIAN, PEDALCYCLIST, OR MOTORIZED CONVEYANCE            KILLED   \n",
       "2644                                           FRONT LEFT            KILLED   \n",
       "...                                                   ...               ...   \n",
       "154124                                         FRONT LEFT            KILLED   \n",
       "154489                                         FRONT LEFT            KILLED   \n",
       "154992                                         FRONT LEFT            KILLED   \n",
       "155420  PEDESTRIAN, PEDALCYCLIST, OR MOTORIZED CONVEYANCE            KILLED   \n",
       "155493                                         FRONT LEFT            KILLED   \n",
       "\n",
       "        PRSN_AGE PRSN_ETHNICITY_ID PRSN_GNDR_ID    PRSN_EJCT_ID  ...  \\\n",
       "1187        38.0             WHITE         MALE              NO  ...   \n",
       "2079        29.0          HISPANIC         MALE              NO  ...   \n",
       "2121        26.0             WHITE         MALE              NO  ...   \n",
       "2314        37.0             BLACK         MALE  NOT APPLICABLE  ...   \n",
       "2644        77.0             BLACK         MALE              NO  ...   \n",
       "...          ...               ...          ...             ...  ...   \n",
       "154124      97.0          HISPANIC         MALE              NO  ...   \n",
       "154489      57.0             BLACK         MALE              NO  ...   \n",
       "154992      88.0             WHITE         MALE              NO  ...   \n",
       "155420      41.0             WHITE         MALE  NOT APPLICABLE  ...   \n",
       "155493      80.0             WHITE       FEMALE             YES  ...   \n",
       "\n",
       "       NONINCAP_INJRY_CNT POSS_INJRY_CNT NON_INJRY_CNT UNKN_INJRY_CNT  \\\n",
       "1187                    0              0             0              0   \n",
       "2079                    0              0             0              0   \n",
       "2121                    0              0             0              0   \n",
       "2314                    0              0             0              0   \n",
       "2644                    0              0             0              0   \n",
       "...                   ...            ...           ...            ...   \n",
       "154124                  0              0             0              0   \n",
       "154489                  0              0             0              0   \n",
       "154992                  0              0             0              0   \n",
       "155420                  0              0             0              0   \n",
       "155493                  0              0             0              0   \n",
       "\n",
       "       TOT_INJRY_CNT DEATH_CNT        DRVR_LIC_TYPE_ID DRVR_LIC_STATE_ID  \\\n",
       "1187               0         1          DRIVER LICENSE             Texas   \n",
       "2079               0         1          DRIVER LICENSE             Texas   \n",
       "2121               0         1          DRIVER LICENSE             Texas   \n",
       "2314               0         1          DRIVER LICENSE       Mississippi   \n",
       "2644               0         1          DRIVER LICENSE             Texas   \n",
       "...              ...       ...                     ...               ...   \n",
       "154124             0         1          DRIVER LICENSE             Texas   \n",
       "154489             0         1  COMMERCIAL DRIVER LIC.             Texas   \n",
       "154992             0         1          DRIVER LICENSE             Texas   \n",
       "155420             0         1          DRIVER LICENSE             Texas   \n",
       "155493             0         1          DRIVER LICENSE             Texas   \n",
       "\n",
       "           DRVR_LIC_CLS_ID DRVR_ZIP  \n",
       "1187               CLASS C    76574  \n",
       "2079               CLASS C    78202  \n",
       "2121               CLASS C    79849  \n",
       "2314    OTHER/OUT OF STATE    38930  \n",
       "2644               CLASS C    77412  \n",
       "...                    ...      ...  \n",
       "154124             CLASS C    79930  \n",
       "154489             CLASS A    75860  \n",
       "154992             CLASS C    79057  \n",
       "155420             CLASS C    77662  \n",
       "155493             CLASS C    79323  \n",
       "\n",
       "[246 rows x 32 columns]"
      ]
     },
     "execution_count": 53,
     "metadata": {},
     "output_type": "execute_result"
    }
   ],
   "source": [
    "primper_df[primper_df[\"DEATH_CNT\"] == 1]"
   ]
  },
  {
   "cell_type": "code",
   "execution_count": 30,
   "metadata": {},
   "outputs": [
    {
     "data": {
      "text/html": [
       "<div>\n",
       "<style scoped>\n",
       "    .dataframe tbody tr th:only-of-type {\n",
       "        vertical-align: middle;\n",
       "    }\n",
       "\n",
       "    .dataframe tbody tr th {\n",
       "        vertical-align: top;\n",
       "    }\n",
       "\n",
       "    .dataframe thead th {\n",
       "        text-align: right;\n",
       "    }\n",
       "</style>\n",
       "<table border=\"1\" class=\"dataframe\">\n",
       "  <thead>\n",
       "    <tr style=\"text-align: right;\">\n",
       "      <th></th>\n",
       "      <th>CRASH_ID</th>\n",
       "      <th>UNIT_NBR</th>\n",
       "      <th>PRSN_NBR</th>\n",
       "      <th>PRSN_TYPE_ID</th>\n",
       "      <th>PRSN_OCCPNT_POS_ID</th>\n",
       "      <th>PRSN_INJRY_SEV_ID</th>\n",
       "      <th>PRSN_AGE</th>\n",
       "      <th>PRSN_ETHNICITY_ID</th>\n",
       "      <th>PRSN_GNDR_ID</th>\n",
       "      <th>PRSN_EJCT_ID</th>\n",
       "      <th>...</th>\n",
       "      <th>NONINCAP_INJRY_CNT</th>\n",
       "      <th>POSS_INJRY_CNT</th>\n",
       "      <th>NON_INJRY_CNT</th>\n",
       "      <th>UNKN_INJRY_CNT</th>\n",
       "      <th>TOT_INJRY_CNT</th>\n",
       "      <th>DEATH_CNT</th>\n",
       "      <th>DRVR_LIC_TYPE_ID</th>\n",
       "      <th>DRVR_LIC_STATE_ID</th>\n",
       "      <th>DRVR_LIC_CLS_ID</th>\n",
       "      <th>DRVR_ZIP</th>\n",
       "    </tr>\n",
       "  </thead>\n",
       "  <tbody>\n",
       "    <tr>\n",
       "      <th>144498</th>\n",
       "      <td>15427361</td>\n",
       "      <td>1</td>\n",
       "      <td>1</td>\n",
       "      <td>DRIVER</td>\n",
       "      <td>FRONT LEFT</td>\n",
       "      <td>NOT INJURED</td>\n",
       "      <td>50.0</td>\n",
       "      <td>HISPANIC</td>\n",
       "      <td>MALE</td>\n",
       "      <td>NO</td>\n",
       "      <td>...</td>\n",
       "      <td>0</td>\n",
       "      <td>0</td>\n",
       "      <td>1</td>\n",
       "      <td>0</td>\n",
       "      <td>0</td>\n",
       "      <td>0</td>\n",
       "      <td>DRIVER LICENSE</td>\n",
       "      <td>Texas</td>\n",
       "      <td>CLASS C</td>\n",
       "      <td>75080</td>\n",
       "    </tr>\n",
       "    <tr>\n",
       "      <th>144499</th>\n",
       "      <td>15427361</td>\n",
       "      <td>3</td>\n",
       "      <td>1</td>\n",
       "      <td>PEDESTRIAN</td>\n",
       "      <td>PEDESTRIAN, PEDALCYCLIST, OR MOTORIZED CONVEYANCE</td>\n",
       "      <td>KILLED</td>\n",
       "      <td>52.0</td>\n",
       "      <td>BLACK</td>\n",
       "      <td>FEMALE</td>\n",
       "      <td>NOT APPLICABLE</td>\n",
       "      <td>...</td>\n",
       "      <td>0</td>\n",
       "      <td>0</td>\n",
       "      <td>0</td>\n",
       "      <td>0</td>\n",
       "      <td>0</td>\n",
       "      <td>1</td>\n",
       "      <td>DRIVER LICENSE</td>\n",
       "      <td>Texas</td>\n",
       "      <td>CLASS C</td>\n",
       "      <td>75347</td>\n",
       "    </tr>\n",
       "    <tr>\n",
       "      <th>144500</th>\n",
       "      <td>15427361</td>\n",
       "      <td>4</td>\n",
       "      <td>1</td>\n",
       "      <td>PEDESTRIAN</td>\n",
       "      <td>PEDESTRIAN, PEDALCYCLIST, OR MOTORIZED CONVEYANCE</td>\n",
       "      <td>KILLED</td>\n",
       "      <td>42.0</td>\n",
       "      <td>BLACK</td>\n",
       "      <td>MALE</td>\n",
       "      <td>NOT APPLICABLE</td>\n",
       "      <td>...</td>\n",
       "      <td>0</td>\n",
       "      <td>0</td>\n",
       "      <td>0</td>\n",
       "      <td>0</td>\n",
       "      <td>0</td>\n",
       "      <td>1</td>\n",
       "      <td>DRIVER LICENSE</td>\n",
       "      <td>Texas</td>\n",
       "      <td>CLASS A</td>\n",
       "      <td>76028</td>\n",
       "    </tr>\n",
       "  </tbody>\n",
       "</table>\n",
       "<p>3 rows × 32 columns</p>\n",
       "</div>"
      ],
      "text/plain": [
       "        CRASH_ID  UNIT_NBR  PRSN_NBR PRSN_TYPE_ID  \\\n",
       "144498  15427361         1         1       DRIVER   \n",
       "144499  15427361         3         1   PEDESTRIAN   \n",
       "144500  15427361         4         1   PEDESTRIAN   \n",
       "\n",
       "                                       PRSN_OCCPNT_POS_ID PRSN_INJRY_SEV_ID  \\\n",
       "144498                                         FRONT LEFT       NOT INJURED   \n",
       "144499  PEDESTRIAN, PEDALCYCLIST, OR MOTORIZED CONVEYANCE            KILLED   \n",
       "144500  PEDESTRIAN, PEDALCYCLIST, OR MOTORIZED CONVEYANCE            KILLED   \n",
       "\n",
       "        PRSN_AGE PRSN_ETHNICITY_ID PRSN_GNDR_ID    PRSN_EJCT_ID  ...  \\\n",
       "144498      50.0          HISPANIC         MALE              NO  ...   \n",
       "144499      52.0             BLACK       FEMALE  NOT APPLICABLE  ...   \n",
       "144500      42.0             BLACK         MALE  NOT APPLICABLE  ...   \n",
       "\n",
       "       NONINCAP_INJRY_CNT POSS_INJRY_CNT NON_INJRY_CNT UNKN_INJRY_CNT  \\\n",
       "144498                  0              0             1              0   \n",
       "144499                  0              0             0              0   \n",
       "144500                  0              0             0              0   \n",
       "\n",
       "       TOT_INJRY_CNT DEATH_CNT  DRVR_LIC_TYPE_ID DRVR_LIC_STATE_ID  \\\n",
       "144498             0         0    DRIVER LICENSE             Texas   \n",
       "144499             0         1    DRIVER LICENSE             Texas   \n",
       "144500             0         1    DRIVER LICENSE             Texas   \n",
       "\n",
       "       DRVR_LIC_CLS_ID DRVR_ZIP  \n",
       "144498         CLASS C    75080  \n",
       "144499         CLASS C    75347  \n",
       "144500         CLASS A    76028  \n",
       "\n",
       "[3 rows x 32 columns]"
      ]
     },
     "execution_count": 30,
     "metadata": {},
     "output_type": "execute_result"
    }
   ],
   "source": [
    "primper_df[primper_df[\"CRASH_ID\"] == 15427361]"
   ]
  },
  {
   "cell_type": "code",
   "execution_count": 31,
   "metadata": {},
   "outputs": [
    {
     "data": {
      "text/plain": [
       "CRASH_ID\n",
       "15070158    2\n",
       "15231664    2\n",
       "15379024    2\n",
       "15427361    2\n",
       "15429998    2\n",
       "           ..\n",
       "15717801    0\n",
       "15717802    0\n",
       "15717806    0\n",
       "15717807    0\n",
       "14838641    0\n",
       "Name: DEATH_CNT, Length: 83805, dtype: int64"
      ]
     },
     "execution_count": 31,
     "metadata": {},
     "output_type": "execute_result"
    }
   ],
   "source": [
    "primper_df.groupby(\"CRASH_ID\")['DEATH_CNT'].sum().sort_values(ascending = False)"
   ]
  },
  {
   "cell_type": "code",
   "execution_count": 50,
   "metadata": {},
   "outputs": [
    {
     "data": {
      "text/plain": [
       "array(['DEPLOYED MULTIPLE', 'NOT DEPLOYED', 'DEPLOYED, FRONT',\n",
       "       'NOT APPLICABLE', 'DEPLOYED, SIDE', 'UNKNOWN', nan,\n",
       "       'DEPLOYED, REAR'], dtype=object)"
      ]
     },
     "execution_count": 50,
     "metadata": {},
     "output_type": "execute_result"
    }
   ],
   "source": [
    "primper_df[\"PRSN_AIRBAG_ID\"].unique()"
   ]
  },
  {
   "cell_type": "code",
   "execution_count": 51,
   "metadata": {},
   "outputs": [
    {
     "data": {
      "text/plain": [
       "array(['DRIVER LICENSE', 'COMMERCIAL DRIVER LIC.', 'ID CARD', 'UNKNOWN',\n",
       "       'UNLICENSED', 'OTHER', nan, 'OCCUPATIONAL'], dtype=object)"
      ]
     },
     "execution_count": 51,
     "metadata": {},
     "output_type": "execute_result"
    }
   ],
   "source": [
    "primper_df[\"DRVR_LIC_TYPE_ID\"].unique()"
   ]
  },
  {
   "cell_type": "code",
   "execution_count": 32,
   "metadata": {},
   "outputs": [
    {
     "data": {
      "text/plain": [
       "PRSN_DEATH_TIME          156708\n",
       "PRSN_ALC_RSLT_ID         148711\n",
       "PRSN_BAC_TEST_RSLT       148711\n",
       "DRVR_LIC_STATE_ID          9854\n",
       "DRVR_ZIP                   4426\n",
       "PRSN_AGE                   2030\n",
       "DRVR_LIC_CLS_ID             866\n",
       "DRVR_LIC_TYPE_ID            866\n",
       "PRSN_ETHNICITY_ID           274\n",
       "PRSN_SOL_FL                  19\n",
       "PRSN_ALC_SPEC_TYPE_ID        19\n",
       "PRSN_INJRY_SEV_ID            19\n",
       "PRSN_EJCT_ID                 19\n",
       "PRSN_REST_ID                 19\n",
       "PRSN_GNDR_ID                 19\n",
       "PRSN_AIRBAG_ID               19\n",
       "DRVR_DRG_CAT_1_ID            19\n",
       "PRSN_DRG_SPEC_TYPE_ID        19\n",
       "PRSN_DRG_RSLT_ID             19\n",
       "PRSN_NBR                      0\n",
       "PRSN_TYPE_ID                  0\n",
       "PRSN_OCCPNT_POS_ID            0\n",
       "UNIT_NBR                      0\n",
       "CRASH_ID                      0\n",
       "PRSN_HELMET_ID                0\n",
       "POSS_INJRY_CNT                0\n",
       "INCAP_INJRY_CNT               0\n",
       "NONINCAP_INJRY_CNT            0\n",
       "DEATH_CNT                     0\n",
       "TOT_INJRY_CNT                 0\n",
       "UNKN_INJRY_CNT                0\n",
       "NON_INJRY_CNT                 0\n",
       "dtype: int64"
      ]
     },
     "execution_count": 32,
     "metadata": {},
     "output_type": "execute_result"
    }
   ],
   "source": [
    "primper_df.isna().sum().sort_values(ascending = False)"
   ]
  },
  {
   "cell_type": "code",
   "execution_count": 59,
   "metadata": {},
   "outputs": [
    {
     "data": {
      "text/plain": [
       "array(['Positive', nan, 'Negative'], dtype=object)"
      ]
     },
     "execution_count": 59,
     "metadata": {},
     "output_type": "execute_result"
    }
   ],
   "source": [
    "primper_df[\"PRSN_ALC_RSLT_ID\"].unique()"
   ]
  },
  {
   "cell_type": "code",
   "execution_count": 33,
   "metadata": {},
   "outputs": [
    {
     "data": {
      "text/html": [
       "<div>\n",
       "<style scoped>\n",
       "    .dataframe tbody tr th:only-of-type {\n",
       "        vertical-align: middle;\n",
       "    }\n",
       "\n",
       "    .dataframe tbody tr th {\n",
       "        vertical-align: top;\n",
       "    }\n",
       "\n",
       "    .dataframe thead th {\n",
       "        text-align: right;\n",
       "    }\n",
       "</style>\n",
       "<table border=\"1\" class=\"dataframe\">\n",
       "  <thead>\n",
       "    <tr style=\"text-align: right;\">\n",
       "      <th></th>\n",
       "      <th>CRASH_ID</th>\n",
       "      <th>UNIT_NBR</th>\n",
       "      <th>DRVR_LIC_RESTRIC_ID</th>\n",
       "    </tr>\n",
       "  </thead>\n",
       "  <tbody>\n",
       "    <tr>\n",
       "      <th>0</th>\n",
       "      <td>14768622</td>\n",
       "      <td>1</td>\n",
       "      <td>NONE</td>\n",
       "    </tr>\n",
       "    <tr>\n",
       "      <th>1</th>\n",
       "      <td>14838637</td>\n",
       "      <td>1</td>\n",
       "      <td>OTHER/OUT OF STATE</td>\n",
       "    </tr>\n",
       "    <tr>\n",
       "      <th>2</th>\n",
       "      <td>14838637</td>\n",
       "      <td>2</td>\n",
       "      <td>NONE</td>\n",
       "    </tr>\n",
       "    <tr>\n",
       "      <th>3</th>\n",
       "      <td>14838641</td>\n",
       "      <td>1</td>\n",
       "      <td>WITH CORRECTIVE LENSES</td>\n",
       "    </tr>\n",
       "    <tr>\n",
       "      <th>4</th>\n",
       "      <td>14838641</td>\n",
       "      <td>2</td>\n",
       "      <td>UNLICENSED</td>\n",
       "    </tr>\n",
       "  </tbody>\n",
       "</table>\n",
       "</div>"
      ],
      "text/plain": [
       "   CRASH_ID  UNIT_NBR     DRVR_LIC_RESTRIC_ID\n",
       "0  14768622         1                    NONE\n",
       "1  14838637         1      OTHER/OUT OF STATE\n",
       "2  14838637         2                    NONE\n",
       "3  14838641         1  WITH CORRECTIVE LENSES\n",
       "4  14838641         2              UNLICENSED"
      ]
     },
     "execution_count": 33,
     "metadata": {},
     "output_type": "execute_result"
    }
   ],
   "source": [
    "Restrict_df = pd.read_csv(f\"{input_path}/Restrict_use.csv\")\n",
    "Restrict_df.head()"
   ]
  },
  {
   "cell_type": "code",
   "execution_count": 34,
   "metadata": {},
   "outputs": [
    {
     "name": "stdout",
     "output_type": "stream",
     "text": [
      "<class 'pandas.core.frame.DataFrame'>\n",
      "RangeIndex: 159852 entries, 0 to 159851\n",
      "Data columns (total 3 columns):\n",
      " #   Column               Non-Null Count   Dtype \n",
      "---  ------               --------------   ----- \n",
      " 0   CRASH_ID             159852 non-null  int64 \n",
      " 1   UNIT_NBR             159852 non-null  int64 \n",
      " 2   DRVR_LIC_RESTRIC_ID  159852 non-null  object\n",
      "dtypes: int64(2), object(1)\n",
      "memory usage: 3.7+ MB\n"
     ]
    }
   ],
   "source": [
    "Restrict_df.info()"
   ]
  },
  {
   "cell_type": "code",
   "execution_count": 35,
   "metadata": {},
   "outputs": [
    {
     "data": {
      "text/plain": [
       "(159852, 3)"
      ]
     },
     "execution_count": 35,
     "metadata": {},
     "output_type": "execute_result"
    }
   ],
   "source": [
    "Restrict_df.shape"
   ]
  },
  {
   "cell_type": "code",
   "execution_count": 36,
   "metadata": {},
   "outputs": [
    {
     "data": {
      "text/plain": [
       "CRASH_ID               0\n",
       "UNIT_NBR               0\n",
       "DRVR_LIC_RESTRIC_ID    0\n",
       "dtype: int64"
      ]
     },
     "execution_count": 36,
     "metadata": {},
     "output_type": "execute_result"
    }
   ],
   "source": [
    "Restrict_df.isna().sum().sort_values(ascending = False)"
   ]
  },
  {
   "cell_type": "code",
   "execution_count": 37,
   "metadata": {},
   "outputs": [
    {
     "name": "stderr",
     "output_type": "stream",
     "text": [
      "C:\\Users\\ameys\\AppData\\Local\\Temp\\ipykernel_8888\\2993751959.py:1: DtypeWarning: Columns (14) have mixed types. Specify dtype option on import or set low_memory=False.\n",
      "  Units_df = pd.read_csv(f\"{input_path}/Units_use.csv\")\n"
     ]
    },
    {
     "data": {
      "text/html": [
       "<div>\n",
       "<style scoped>\n",
       "    .dataframe tbody tr th:only-of-type {\n",
       "        vertical-align: middle;\n",
       "    }\n",
       "\n",
       "    .dataframe tbody tr th {\n",
       "        vertical-align: top;\n",
       "    }\n",
       "\n",
       "    .dataframe thead th {\n",
       "        text-align: right;\n",
       "    }\n",
       "</style>\n",
       "<table border=\"1\" class=\"dataframe\">\n",
       "  <thead>\n",
       "    <tr style=\"text-align: right;\">\n",
       "      <th></th>\n",
       "      <th>CRASH_ID</th>\n",
       "      <th>UNIT_NBR</th>\n",
       "      <th>UNIT_DESC_ID</th>\n",
       "      <th>VEH_PARKED_FL</th>\n",
       "      <th>VEH_HNR_FL</th>\n",
       "      <th>VEH_LIC_STATE_ID</th>\n",
       "      <th>VIN</th>\n",
       "      <th>VEH_MOD_YEAR</th>\n",
       "      <th>VEH_COLOR_ID</th>\n",
       "      <th>VEH_MAKE_ID</th>\n",
       "      <th>...</th>\n",
       "      <th>CONTRIB_FACTR_P1_ID</th>\n",
       "      <th>VEH_TRVL_DIR_ID</th>\n",
       "      <th>FIRST_HARM_EVT_INV_ID</th>\n",
       "      <th>INCAP_INJRY_CNT</th>\n",
       "      <th>NONINCAP_INJRY_CNT</th>\n",
       "      <th>POSS_INJRY_CNT</th>\n",
       "      <th>NON_INJRY_CNT</th>\n",
       "      <th>UNKN_INJRY_CNT</th>\n",
       "      <th>TOT_INJRY_CNT</th>\n",
       "      <th>DEATH_CNT</th>\n",
       "    </tr>\n",
       "  </thead>\n",
       "  <tbody>\n",
       "    <tr>\n",
       "      <th>0</th>\n",
       "      <td>14768622</td>\n",
       "      <td>1</td>\n",
       "      <td>MOTOR VEHICLE</td>\n",
       "      <td>N</td>\n",
       "      <td>N</td>\n",
       "      <td>TX</td>\n",
       "      <td>4S2CK57D1X4381118</td>\n",
       "      <td>1999.0</td>\n",
       "      <td>GRY</td>\n",
       "      <td>ISUZU</td>\n",
       "      <td>...</td>\n",
       "      <td>NaN</td>\n",
       "      <td>EAST</td>\n",
       "      <td>Y</td>\n",
       "      <td>0</td>\n",
       "      <td>0</td>\n",
       "      <td>0</td>\n",
       "      <td>1</td>\n",
       "      <td>0</td>\n",
       "      <td>0</td>\n",
       "      <td>0</td>\n",
       "    </tr>\n",
       "    <tr>\n",
       "      <th>1</th>\n",
       "      <td>14838637</td>\n",
       "      <td>1</td>\n",
       "      <td>MOTOR VEHICLE</td>\n",
       "      <td>N</td>\n",
       "      <td>N</td>\n",
       "      <td>TX</td>\n",
       "      <td>WVWAN7AN6DE536582</td>\n",
       "      <td>NaN</td>\n",
       "      <td>GRY</td>\n",
       "      <td>VOLKSWAGEN</td>\n",
       "      <td>...</td>\n",
       "      <td>NaN</td>\n",
       "      <td>SOUTH</td>\n",
       "      <td>Y</td>\n",
       "      <td>0</td>\n",
       "      <td>0</td>\n",
       "      <td>0</td>\n",
       "      <td>1</td>\n",
       "      <td>0</td>\n",
       "      <td>0</td>\n",
       "      <td>0</td>\n",
       "    </tr>\n",
       "    <tr>\n",
       "      <th>2</th>\n",
       "      <td>14838637</td>\n",
       "      <td>2</td>\n",
       "      <td>MOTOR VEHICLE</td>\n",
       "      <td>N</td>\n",
       "      <td>N</td>\n",
       "      <td>TX</td>\n",
       "      <td>1FUJA6CG24LM14889</td>\n",
       "      <td>2004.0</td>\n",
       "      <td>RED</td>\n",
       "      <td>FREIGHTLINER</td>\n",
       "      <td>...</td>\n",
       "      <td>NaN</td>\n",
       "      <td>SOUTH</td>\n",
       "      <td>Y</td>\n",
       "      <td>0</td>\n",
       "      <td>0</td>\n",
       "      <td>0</td>\n",
       "      <td>1</td>\n",
       "      <td>0</td>\n",
       "      <td>0</td>\n",
       "      <td>0</td>\n",
       "    </tr>\n",
       "    <tr>\n",
       "      <th>3</th>\n",
       "      <td>14838637</td>\n",
       "      <td>2</td>\n",
       "      <td>MOTOR VEHICLE</td>\n",
       "      <td>N</td>\n",
       "      <td>N</td>\n",
       "      <td>TX</td>\n",
       "      <td>1FUJA6CG24LM14889</td>\n",
       "      <td>2004.0</td>\n",
       "      <td>RED</td>\n",
       "      <td>FREIGHTLINER</td>\n",
       "      <td>...</td>\n",
       "      <td>NaN</td>\n",
       "      <td>SOUTH</td>\n",
       "      <td>Y</td>\n",
       "      <td>0</td>\n",
       "      <td>0</td>\n",
       "      <td>0</td>\n",
       "      <td>1</td>\n",
       "      <td>0</td>\n",
       "      <td>0</td>\n",
       "      <td>0</td>\n",
       "    </tr>\n",
       "    <tr>\n",
       "      <th>4</th>\n",
       "      <td>14838637</td>\n",
       "      <td>3</td>\n",
       "      <td>TOWED/TRAILER</td>\n",
       "      <td>NaN</td>\n",
       "      <td>NaN</td>\n",
       "      <td>NaN</td>\n",
       "      <td>NaN</td>\n",
       "      <td>NaN</td>\n",
       "      <td>NaN</td>\n",
       "      <td>NaN</td>\n",
       "      <td>...</td>\n",
       "      <td>NaN</td>\n",
       "      <td>NOT APPLICABLE</td>\n",
       "      <td>N</td>\n",
       "      <td>0</td>\n",
       "      <td>0</td>\n",
       "      <td>0</td>\n",
       "      <td>0</td>\n",
       "      <td>0</td>\n",
       "      <td>0</td>\n",
       "      <td>0</td>\n",
       "    </tr>\n",
       "  </tbody>\n",
       "</table>\n",
       "<p>5 rows × 37 columns</p>\n",
       "</div>"
      ],
      "text/plain": [
       "   CRASH_ID  UNIT_NBR   UNIT_DESC_ID VEH_PARKED_FL VEH_HNR_FL  \\\n",
       "0  14768622         1  MOTOR VEHICLE             N          N   \n",
       "1  14838637         1  MOTOR VEHICLE             N          N   \n",
       "2  14838637         2  MOTOR VEHICLE             N          N   \n",
       "3  14838637         2  MOTOR VEHICLE             N          N   \n",
       "4  14838637         3  TOWED/TRAILER           NaN        NaN   \n",
       "\n",
       "  VEH_LIC_STATE_ID                VIN  VEH_MOD_YEAR VEH_COLOR_ID  \\\n",
       "0               TX  4S2CK57D1X4381118        1999.0          GRY   \n",
       "1               TX  WVWAN7AN6DE536582           NaN          GRY   \n",
       "2               TX  1FUJA6CG24LM14889        2004.0          RED   \n",
       "3               TX  1FUJA6CG24LM14889        2004.0          RED   \n",
       "4              NaN                NaN           NaN          NaN   \n",
       "\n",
       "    VEH_MAKE_ID  ... CONTRIB_FACTR_P1_ID VEH_TRVL_DIR_ID  \\\n",
       "0         ISUZU  ...                 NaN            EAST   \n",
       "1    VOLKSWAGEN  ...                 NaN           SOUTH   \n",
       "2  FREIGHTLINER  ...                 NaN           SOUTH   \n",
       "3  FREIGHTLINER  ...                 NaN           SOUTH   \n",
       "4           NaN  ...                 NaN  NOT APPLICABLE   \n",
       "\n",
       "  FIRST_HARM_EVT_INV_ID INCAP_INJRY_CNT NONINCAP_INJRY_CNT POSS_INJRY_CNT  \\\n",
       "0                     Y               0                  0              0   \n",
       "1                     Y               0                  0              0   \n",
       "2                     Y               0                  0              0   \n",
       "3                     Y               0                  0              0   \n",
       "4                     N               0                  0              0   \n",
       "\n",
       "  NON_INJRY_CNT UNKN_INJRY_CNT  TOT_INJRY_CNT DEATH_CNT  \n",
       "0             1              0              0         0  \n",
       "1             1              0              0         0  \n",
       "2             1              0              0         0  \n",
       "3             1              0              0         0  \n",
       "4             0              0              0         0  \n",
       "\n",
       "[5 rows x 37 columns]"
      ]
     },
     "execution_count": 37,
     "metadata": {},
     "output_type": "execute_result"
    }
   ],
   "source": [
    "Units_df = pd.read_csv(f\"{input_path}/Units_use.csv\")\n",
    "Units_df.head()"
   ]
  },
  {
   "cell_type": "code",
   "execution_count": 38,
   "metadata": {},
   "outputs": [
    {
     "name": "stdout",
     "output_type": "stream",
     "text": [
      "<class 'pandas.core.frame.DataFrame'>\n",
      "RangeIndex: 173499 entries, 0 to 173498\n",
      "Data columns (total 37 columns):\n",
      " #   Column                 Non-Null Count   Dtype  \n",
      "---  ------                 --------------   -----  \n",
      " 0   CRASH_ID               173499 non-null  int64  \n",
      " 1   UNIT_NBR               173499 non-null  int64  \n",
      " 2   UNIT_DESC_ID           173499 non-null  object \n",
      " 3   VEH_PARKED_FL          167763 non-null  object \n",
      " 4   VEH_HNR_FL             167763 non-null  object \n",
      " 5   VEH_LIC_STATE_ID       167434 non-null  object \n",
      " 6   VIN                    165800 non-null  object \n",
      " 7   VEH_MOD_YEAR           97552 non-null   float64\n",
      " 8   VEH_COLOR_ID           167306 non-null  object \n",
      " 9   VEH_MAKE_ID            167265 non-null  object \n",
      " 10  VEH_MOD_ID             159460 non-null  object \n",
      " 11  VEH_BODY_STYL_ID       167756 non-null  object \n",
      " 12  EMER_RESPNDR_FL        167763 non-null  object \n",
      " 13  OWNR_ZIP               167461 non-null  object \n",
      " 14  FIN_RESP_PROOF_ID      166904 non-null  object \n",
      " 15  FIN_RESP_TYPE_ID       152369 non-null  object \n",
      " 16  VEH_DMAG_AREA_1_ID     164274 non-null  object \n",
      " 17  VEH_DMAG_SCL_1_ID      163956 non-null  object \n",
      " 18  FORCE_DIR_1_ID         153470 non-null  float64\n",
      " 19  VEH_DMAG_AREA_2_ID     38154 non-null   object \n",
      " 20  VEH_DMAG_SCL_2_ID      38110 non-null   object \n",
      " 21  FORCE_DIR_2_ID         33582 non-null   float64\n",
      " 22  VEH_INVENTORIED_FL     165291 non-null  object \n",
      " 23  VEH_TRANSP_NAME        124908 non-null  object \n",
      " 24  VEH_TRANSP_DEST        117715 non-null  object \n",
      " 25  CONTRIB_FACTR_1_ID     169820 non-null  object \n",
      " 26  CONTRIB_FACTR_2_ID     23663 non-null   object \n",
      " 27  CONTRIB_FACTR_P1_ID    19940 non-null   object \n",
      " 28  VEH_TRVL_DIR_ID        173499 non-null  object \n",
      " 29  FIRST_HARM_EVT_INV_ID  173499 non-null  object \n",
      " 30  INCAP_INJRY_CNT        173499 non-null  int64  \n",
      " 31  NONINCAP_INJRY_CNT     173499 non-null  int64  \n",
      " 32  POSS_INJRY_CNT         173499 non-null  int64  \n",
      " 33  NON_INJRY_CNT          173499 non-null  int64  \n",
      " 34  UNKN_INJRY_CNT         173499 non-null  int64  \n",
      " 35  TOT_INJRY_CNT          173499 non-null  int64  \n",
      " 36  DEATH_CNT              173499 non-null  int64  \n",
      "dtypes: float64(3), int64(9), object(25)\n",
      "memory usage: 49.0+ MB\n"
     ]
    }
   ],
   "source": [
    "Units_df.info()"
   ]
  },
  {
   "cell_type": "code",
   "execution_count": 64,
   "metadata": {},
   "outputs": [
    {
     "data": {
      "text/plain": [
       "array([nan, 'PROOF OF LIABILITY INSURANCE', 'LIABILITY INSURANCE POLICY',\n",
       "       'CERTIFICATE OF SELF-INSURANCE', 'SURETY BOND', 'INSURANCE BINDER',\n",
       "       'CERTIFICATE OF DEPOSIT WITH COMPTROLLER',\n",
       "       'CERTIFICATE OF DEPOSIT WITH COUNTY JUDGE'], dtype=object)"
      ]
     },
     "execution_count": 64,
     "metadata": {},
     "output_type": "execute_result"
    }
   ],
   "source": [
    "Units_df['FIN_RESP_TYPE_ID'].unique()"
   ]
  },
  {
   "cell_type": "code",
   "execution_count": 61,
   "metadata": {},
   "outputs": [
    {
     "data": {
      "text/plain": [
       "array(['DAMAGED 4', nan, 'DAMAGED 2', 'NO DAMAGE', 'DAMAGED 1 MINIMUM',\n",
       "       'DAMAGED 3', 'DAMAGED 6', 'DAMAGED 5', 'DAMAGED 7 HIGHEST',\n",
       "       'INVALID VALUE'], dtype=object)"
      ]
     },
     "execution_count": 61,
     "metadata": {},
     "output_type": "execute_result"
    }
   ],
   "source": [
    "Units_df['VEH_DMAG_SCL_2_ID'].unique()"
   ]
  },
  {
   "cell_type": "code",
   "execution_count": 62,
   "metadata": {},
   "outputs": [
    {
     "data": {
      "text/plain": [
       "array(['DAMAGED 3', 'DAMAGED 2', nan, 'DAMAGED 4', 'DAMAGED 1 MINIMUM',\n",
       "       'DAMAGED 6', 'DAMAGED 5', 'NO DAMAGE', 'DAMAGED 7 HIGHEST',\n",
       "       'INVALID VALUE'], dtype=object)"
      ]
     },
     "execution_count": 62,
     "metadata": {},
     "output_type": "execute_result"
    }
   ],
   "source": [
    "Units_df['VEH_DMAG_SCL_1_ID'].unique()"
   ]
  },
  {
   "cell_type": "code",
   "execution_count": 52,
   "metadata": {},
   "outputs": [
    {
     "data": {
      "text/plain": [
       "array(['N', nan, 'Y'], dtype=object)"
      ]
     },
     "execution_count": 52,
     "metadata": {},
     "output_type": "execute_result"
    }
   ],
   "source": [
    "Units_df['VEH_HNR_FL'].unique()"
   ]
  },
  {
   "cell_type": "code",
   "execution_count": 49,
   "metadata": {},
   "outputs": [
    {
     "data": {
      "text/plain": [
       "array(['MOTOR VEHICLE', 'TOWED/TRAILER', 'NON-CONTACT', 'PEDESTRIAN',\n",
       "       'OTHER  (EXPLAIN IN NARRATIVE)', 'TRAIN', 'PEDALCYCLIST',\n",
       "       'MOTORIZED CONVEYANCE'], dtype=object)"
      ]
     },
     "execution_count": 49,
     "metadata": {},
     "output_type": "execute_result"
    }
   ],
   "source": [
    "Units_df['UNIT_DESC_ID'].unique()"
   ]
  },
  {
   "cell_type": "code",
   "execution_count": 48,
   "metadata": {},
   "outputs": [
    {
     "data": {
      "text/plain": [
       "array(['PASSENGER CAR, 4-DOOR', 'TRUCK', nan, 'SPORT UTILITY VEHICLE',\n",
       "       'PICKUP', 'PASSENGER CAR, 2-DOOR', 'VAN', 'POLICE CAR/TRUCK',\n",
       "       'OTHER  (EXPLAIN IN NARRATIVE)', 'MOTORCYCLE', 'UNKNOWN', 'BUS',\n",
       "       'TRUCK TRACTOR', 'YELLOW SCHOOL BUS', 'FARM EQUIPMENT',\n",
       "       'FIRE TRUCK', 'NEV-NEIGHBORHOOD ELECTRIC VEHICLE', 'AMBULANCE',\n",
       "       'POLICE MOTORCYCLE', 'NOT REPORTED'], dtype=object)"
      ]
     },
     "execution_count": 48,
     "metadata": {},
     "output_type": "execute_result"
    }
   ],
   "source": [
    "Units_df['VEH_BODY_STYL_ID'].unique()"
   ]
  },
  {
   "cell_type": "code",
   "execution_count": 40,
   "metadata": {},
   "outputs": [
    {
     "data": {
      "text/plain": [
       "(173499, 37)"
      ]
     },
     "execution_count": 40,
     "metadata": {},
     "output_type": "execute_result"
    }
   ],
   "source": [
    "Units_df.shape"
   ]
  },
  {
   "cell_type": "code",
   "execution_count": 41,
   "metadata": {},
   "outputs": [
    {
     "data": {
      "text/plain": [
       "CONTRIB_FACTR_P1_ID      153559\n",
       "CONTRIB_FACTR_2_ID       149836\n",
       "FORCE_DIR_2_ID           139917\n",
       "VEH_DMAG_SCL_2_ID        135389\n",
       "VEH_DMAG_AREA_2_ID       135345\n",
       "VEH_MOD_YEAR              75947\n",
       "VEH_TRANSP_DEST           55784\n",
       "VEH_TRANSP_NAME           48591\n",
       "FIN_RESP_TYPE_ID          21130\n",
       "FORCE_DIR_1_ID            20029\n",
       "VEH_MOD_ID                14039\n",
       "VEH_DMAG_SCL_1_ID          9543\n",
       "VEH_DMAG_AREA_1_ID         9225\n",
       "VEH_INVENTORIED_FL         8208\n",
       "VIN                        7699\n",
       "FIN_RESP_PROOF_ID          6595\n",
       "VEH_MAKE_ID                6234\n",
       "VEH_COLOR_ID               6193\n",
       "VEH_LIC_STATE_ID           6065\n",
       "OWNR_ZIP                   6038\n",
       "VEH_BODY_STYL_ID           5743\n",
       "VEH_HNR_FL                 5736\n",
       "EMER_RESPNDR_FL            5736\n",
       "VEH_PARKED_FL              5736\n",
       "CONTRIB_FACTR_1_ID         3679\n",
       "UNIT_NBR                      0\n",
       "UNIT_DESC_ID                  0\n",
       "CRASH_ID                      0\n",
       "VEH_TRVL_DIR_ID               0\n",
       "FIRST_HARM_EVT_INV_ID         0\n",
       "INCAP_INJRY_CNT               0\n",
       "NONINCAP_INJRY_CNT            0\n",
       "POSS_INJRY_CNT                0\n",
       "NON_INJRY_CNT                 0\n",
       "UNKN_INJRY_CNT                0\n",
       "TOT_INJRY_CNT                 0\n",
       "DEATH_CNT                     0\n",
       "dtype: int64"
      ]
     },
     "execution_count": 41,
     "metadata": {},
     "output_type": "execute_result"
    }
   ],
   "source": [
    "Units_df.isna().sum().sort_values(ascending = False)"
   ]
  },
  {
   "cell_type": "code",
   "execution_count": 54,
   "metadata": {},
   "outputs": [
    {
     "data": {
      "text/plain": [
       "DEATH_CNT\n",
       "0    173210\n",
       "1       268\n",
       "2        19\n",
       "4         1\n",
       "3         1\n",
       "Name: count, dtype: int64"
      ]
     },
     "execution_count": 54,
     "metadata": {},
     "output_type": "execute_result"
    }
   ],
   "source": [
    "Units_df.DEATH_CNT.value_counts()"
   ]
  },
  {
   "cell_type": "code",
   "execution_count": 55,
   "metadata": {},
   "outputs": [
    {
     "data": {
      "text/plain": [
       "TOT_INJRY_CNT\n",
       "0     137056\n",
       "1      32507\n",
       "2       2757\n",
       "3        738\n",
       "4        267\n",
       "5        118\n",
       "6         27\n",
       "7         14\n",
       "11         4\n",
       "10         4\n",
       "31         2\n",
       "15         2\n",
       "8          2\n",
       "9          1\n",
       "Name: count, dtype: int64"
      ]
     },
     "execution_count": 55,
     "metadata": {},
     "output_type": "execute_result"
    }
   ],
   "source": [
    "Units_df.TOT_INJRY_CNT.value_counts()"
   ]
  },
  {
   "cell_type": "code",
   "execution_count": 57,
   "metadata": {},
   "outputs": [
    {
     "data": {
      "text/html": [
       "<div>\n",
       "<style scoped>\n",
       "    .dataframe tbody tr th:only-of-type {\n",
       "        vertical-align: middle;\n",
       "    }\n",
       "\n",
       "    .dataframe tbody tr th {\n",
       "        vertical-align: top;\n",
       "    }\n",
       "\n",
       "    .dataframe thead th {\n",
       "        text-align: right;\n",
       "    }\n",
       "</style>\n",
       "<table border=\"1\" class=\"dataframe\">\n",
       "  <thead>\n",
       "    <tr style=\"text-align: right;\">\n",
       "      <th></th>\n",
       "      <th>CRASH_ID</th>\n",
       "      <th>UNIT_NBR</th>\n",
       "      <th>UNIT_DESC_ID</th>\n",
       "      <th>VEH_PARKED_FL</th>\n",
       "      <th>VEH_HNR_FL</th>\n",
       "      <th>VEH_LIC_STATE_ID</th>\n",
       "      <th>VIN</th>\n",
       "      <th>VEH_MOD_YEAR</th>\n",
       "      <th>VEH_COLOR_ID</th>\n",
       "      <th>VEH_MAKE_ID</th>\n",
       "      <th>...</th>\n",
       "      <th>CONTRIB_FACTR_P1_ID</th>\n",
       "      <th>VEH_TRVL_DIR_ID</th>\n",
       "      <th>FIRST_HARM_EVT_INV_ID</th>\n",
       "      <th>INCAP_INJRY_CNT</th>\n",
       "      <th>NONINCAP_INJRY_CNT</th>\n",
       "      <th>POSS_INJRY_CNT</th>\n",
       "      <th>NON_INJRY_CNT</th>\n",
       "      <th>UNKN_INJRY_CNT</th>\n",
       "      <th>TOT_INJRY_CNT</th>\n",
       "      <th>DEATH_CNT</th>\n",
       "    </tr>\n",
       "  </thead>\n",
       "  <tbody>\n",
       "    <tr>\n",
       "      <th>15381</th>\n",
       "      <td>14896012</td>\n",
       "      <td>2</td>\n",
       "      <td>MOTOR VEHICLE</td>\n",
       "      <td>N</td>\n",
       "      <td>N</td>\n",
       "      <td>TX</td>\n",
       "      <td>JM3LW28G9Y0117975</td>\n",
       "      <td>2000.0</td>\n",
       "      <td>GRY</td>\n",
       "      <td>MAZDA</td>\n",
       "      <td>...</td>\n",
       "      <td>NaN</td>\n",
       "      <td>WEST</td>\n",
       "      <td>Y</td>\n",
       "      <td>0</td>\n",
       "      <td>1</td>\n",
       "      <td>8</td>\n",
       "      <td>0</td>\n",
       "      <td>0</td>\n",
       "      <td>9</td>\n",
       "      <td>0</td>\n",
       "    </tr>\n",
       "  </tbody>\n",
       "</table>\n",
       "<p>1 rows × 37 columns</p>\n",
       "</div>"
      ],
      "text/plain": [
       "       CRASH_ID  UNIT_NBR   UNIT_DESC_ID VEH_PARKED_FL VEH_HNR_FL  \\\n",
       "15381  14896012         2  MOTOR VEHICLE             N          N   \n",
       "\n",
       "      VEH_LIC_STATE_ID                VIN  VEH_MOD_YEAR VEH_COLOR_ID  \\\n",
       "15381               TX  JM3LW28G9Y0117975        2000.0          GRY   \n",
       "\n",
       "      VEH_MAKE_ID  ... CONTRIB_FACTR_P1_ID VEH_TRVL_DIR_ID  \\\n",
       "15381       MAZDA  ...                 NaN            WEST   \n",
       "\n",
       "      FIRST_HARM_EVT_INV_ID INCAP_INJRY_CNT NONINCAP_INJRY_CNT POSS_INJRY_CNT  \\\n",
       "15381                     Y               0                  1              8   \n",
       "\n",
       "      NON_INJRY_CNT UNKN_INJRY_CNT  TOT_INJRY_CNT DEATH_CNT  \n",
       "15381             0              0              9         0  \n",
       "\n",
       "[1 rows x 37 columns]"
      ]
     },
     "execution_count": 57,
     "metadata": {},
     "output_type": "execute_result"
    }
   ],
   "source": [
    "Units_df[Units_df[\"TOT_INJRY_CNT\"]==9]"
   ]
  },
  {
   "cell_type": "code",
   "execution_count": 42,
   "metadata": {},
   "outputs": [
    {
     "data": {
      "text/plain": [
       "VEH_BODY_STYL_ID\n",
       "PASSENGER CAR, 4-DOOR                65559\n",
       "PICKUP                               36799\n",
       "SPORT UTILITY VEHICLE                33310\n",
       "PASSENGER CAR, 2-DOOR                11033\n",
       "TRUCK TRACTOR                         6532\n",
       "VAN                                   5659\n",
       "TRUCK                                 4534\n",
       "UNKNOWN                               1631\n",
       "MOTORCYCLE                             781\n",
       "OTHER  (EXPLAIN IN NARRATIVE)          516\n",
       "BUS                                    463\n",
       "POLICE CAR/TRUCK                       399\n",
       "YELLOW SCHOOL BUS                      279\n",
       "FIRE TRUCK                             106\n",
       "AMBULANCE                               87\n",
       "FARM EQUIPMENT                          57\n",
       "NEV-NEIGHBORHOOD ELECTRIC VEHICLE        6\n",
       "POLICE MOTORCYCLE                        3\n",
       "NOT REPORTED                             2\n",
       "Name: count, dtype: int64"
      ]
     },
     "execution_count": 42,
     "metadata": {},
     "output_type": "execute_result"
    }
   ],
   "source": [
    "Units_df.VEH_BODY_STYL_ID.value_counts()"
   ]
  },
  {
   "cell_type": "markdown",
   "metadata": {},
   "source": [
    "1. Analytics 1: Find the number of crashes (accidents) in which number of males killed are greater than 2?"
   ]
  },
  {
   "cell_type": "code",
   "execution_count": 43,
   "metadata": {},
   "outputs": [
    {
     "data": {
      "text/html": [
       "<div>\n",
       "<style scoped>\n",
       "    .dataframe tbody tr th:only-of-type {\n",
       "        vertical-align: middle;\n",
       "    }\n",
       "\n",
       "    .dataframe tbody tr th {\n",
       "        vertical-align: top;\n",
       "    }\n",
       "\n",
       "    .dataframe thead th {\n",
       "        text-align: right;\n",
       "    }\n",
       "</style>\n",
       "<table border=\"1\" class=\"dataframe\">\n",
       "  <thead>\n",
       "    <tr style=\"text-align: right;\">\n",
       "      <th></th>\n",
       "      <th>CRASH_ID</th>\n",
       "      <th>UNIT_NBR</th>\n",
       "      <th>PRSN_NBR</th>\n",
       "      <th>PRSN_TYPE_ID</th>\n",
       "      <th>PRSN_OCCPNT_POS_ID</th>\n",
       "      <th>PRSN_INJRY_SEV_ID</th>\n",
       "      <th>PRSN_AGE</th>\n",
       "      <th>PRSN_ETHNICITY_ID</th>\n",
       "      <th>PRSN_GNDR_ID</th>\n",
       "      <th>PRSN_EJCT_ID</th>\n",
       "      <th>...</th>\n",
       "      <th>NONINCAP_INJRY_CNT</th>\n",
       "      <th>POSS_INJRY_CNT</th>\n",
       "      <th>NON_INJRY_CNT</th>\n",
       "      <th>UNKN_INJRY_CNT</th>\n",
       "      <th>TOT_INJRY_CNT</th>\n",
       "      <th>DEATH_CNT</th>\n",
       "      <th>DRVR_LIC_TYPE_ID</th>\n",
       "      <th>DRVR_LIC_STATE_ID</th>\n",
       "      <th>DRVR_LIC_CLS_ID</th>\n",
       "      <th>DRVR_ZIP</th>\n",
       "    </tr>\n",
       "  </thead>\n",
       "  <tbody>\n",
       "    <tr>\n",
       "      <th>1187</th>\n",
       "      <td>14848300</td>\n",
       "      <td>2</td>\n",
       "      <td>1</td>\n",
       "      <td>DRIVER</td>\n",
       "      <td>FRONT LEFT</td>\n",
       "      <td>KILLED</td>\n",
       "      <td>38.0</td>\n",
       "      <td>WHITE</td>\n",
       "      <td>MALE</td>\n",
       "      <td>NO</td>\n",
       "      <td>...</td>\n",
       "      <td>0</td>\n",
       "      <td>0</td>\n",
       "      <td>0</td>\n",
       "      <td>0</td>\n",
       "      <td>0</td>\n",
       "      <td>1</td>\n",
       "      <td>DRIVER LICENSE</td>\n",
       "      <td>Texas</td>\n",
       "      <td>CLASS C</td>\n",
       "      <td>76574</td>\n",
       "    </tr>\n",
       "    <tr>\n",
       "      <th>2079</th>\n",
       "      <td>14851818</td>\n",
       "      <td>2</td>\n",
       "      <td>1</td>\n",
       "      <td>DRIVER</td>\n",
       "      <td>FRONT LEFT</td>\n",
       "      <td>KILLED</td>\n",
       "      <td>29.0</td>\n",
       "      <td>HISPANIC</td>\n",
       "      <td>MALE</td>\n",
       "      <td>NO</td>\n",
       "      <td>...</td>\n",
       "      <td>0</td>\n",
       "      <td>0</td>\n",
       "      <td>0</td>\n",
       "      <td>0</td>\n",
       "      <td>0</td>\n",
       "      <td>1</td>\n",
       "      <td>DRIVER LICENSE</td>\n",
       "      <td>Texas</td>\n",
       "      <td>CLASS C</td>\n",
       "      <td>78202</td>\n",
       "    </tr>\n",
       "    <tr>\n",
       "      <th>2121</th>\n",
       "      <td>14851954</td>\n",
       "      <td>2</td>\n",
       "      <td>1</td>\n",
       "      <td>DRIVER</td>\n",
       "      <td>FRONT LEFT</td>\n",
       "      <td>KILLED</td>\n",
       "      <td>26.0</td>\n",
       "      <td>WHITE</td>\n",
       "      <td>MALE</td>\n",
       "      <td>NO</td>\n",
       "      <td>...</td>\n",
       "      <td>0</td>\n",
       "      <td>0</td>\n",
       "      <td>0</td>\n",
       "      <td>0</td>\n",
       "      <td>0</td>\n",
       "      <td>1</td>\n",
       "      <td>DRIVER LICENSE</td>\n",
       "      <td>Texas</td>\n",
       "      <td>CLASS C</td>\n",
       "      <td>79849</td>\n",
       "    </tr>\n",
       "    <tr>\n",
       "      <th>2314</th>\n",
       "      <td>14852533</td>\n",
       "      <td>2</td>\n",
       "      <td>1</td>\n",
       "      <td>PEDESTRIAN</td>\n",
       "      <td>PEDESTRIAN, PEDALCYCLIST, OR MOTORIZED CONVEYANCE</td>\n",
       "      <td>KILLED</td>\n",
       "      <td>37.0</td>\n",
       "      <td>BLACK</td>\n",
       "      <td>MALE</td>\n",
       "      <td>NOT APPLICABLE</td>\n",
       "      <td>...</td>\n",
       "      <td>0</td>\n",
       "      <td>0</td>\n",
       "      <td>0</td>\n",
       "      <td>0</td>\n",
       "      <td>0</td>\n",
       "      <td>1</td>\n",
       "      <td>DRIVER LICENSE</td>\n",
       "      <td>Mississippi</td>\n",
       "      <td>OTHER/OUT OF STATE</td>\n",
       "      <td>38930</td>\n",
       "    </tr>\n",
       "    <tr>\n",
       "      <th>2644</th>\n",
       "      <td>14854567</td>\n",
       "      <td>3</td>\n",
       "      <td>1</td>\n",
       "      <td>DRIVER</td>\n",
       "      <td>FRONT LEFT</td>\n",
       "      <td>KILLED</td>\n",
       "      <td>77.0</td>\n",
       "      <td>BLACK</td>\n",
       "      <td>MALE</td>\n",
       "      <td>NO</td>\n",
       "      <td>...</td>\n",
       "      <td>0</td>\n",
       "      <td>0</td>\n",
       "      <td>0</td>\n",
       "      <td>0</td>\n",
       "      <td>0</td>\n",
       "      <td>1</td>\n",
       "      <td>DRIVER LICENSE</td>\n",
       "      <td>Texas</td>\n",
       "      <td>CLASS C</td>\n",
       "      <td>77412</td>\n",
       "    </tr>\n",
       "    <tr>\n",
       "      <th>...</th>\n",
       "      <td>...</td>\n",
       "      <td>...</td>\n",
       "      <td>...</td>\n",
       "      <td>...</td>\n",
       "      <td>...</td>\n",
       "      <td>...</td>\n",
       "      <td>...</td>\n",
       "      <td>...</td>\n",
       "      <td>...</td>\n",
       "      <td>...</td>\n",
       "      <td>...</td>\n",
       "      <td>...</td>\n",
       "      <td>...</td>\n",
       "      <td>...</td>\n",
       "      <td>...</td>\n",
       "      <td>...</td>\n",
       "      <td>...</td>\n",
       "      <td>...</td>\n",
       "      <td>...</td>\n",
       "      <td>...</td>\n",
       "      <td>...</td>\n",
       "    </tr>\n",
       "    <tr>\n",
       "      <th>153982</th>\n",
       "      <td>15502739</td>\n",
       "      <td>2</td>\n",
       "      <td>1</td>\n",
       "      <td>PEDESTRIAN</td>\n",
       "      <td>PEDESTRIAN, PEDALCYCLIST, OR MOTORIZED CONVEYANCE</td>\n",
       "      <td>KILLED</td>\n",
       "      <td>53.0</td>\n",
       "      <td>WHITE</td>\n",
       "      <td>MALE</td>\n",
       "      <td>NOT APPLICABLE</td>\n",
       "      <td>...</td>\n",
       "      <td>0</td>\n",
       "      <td>0</td>\n",
       "      <td>0</td>\n",
       "      <td>0</td>\n",
       "      <td>0</td>\n",
       "      <td>1</td>\n",
       "      <td>DRIVER LICENSE</td>\n",
       "      <td>Texas</td>\n",
       "      <td>CLASS C</td>\n",
       "      <td>78745</td>\n",
       "    </tr>\n",
       "    <tr>\n",
       "      <th>154124</th>\n",
       "      <td>15503748</td>\n",
       "      <td>1</td>\n",
       "      <td>1</td>\n",
       "      <td>DRIVER</td>\n",
       "      <td>FRONT LEFT</td>\n",
       "      <td>KILLED</td>\n",
       "      <td>97.0</td>\n",
       "      <td>HISPANIC</td>\n",
       "      <td>MALE</td>\n",
       "      <td>NO</td>\n",
       "      <td>...</td>\n",
       "      <td>0</td>\n",
       "      <td>0</td>\n",
       "      <td>0</td>\n",
       "      <td>0</td>\n",
       "      <td>0</td>\n",
       "      <td>1</td>\n",
       "      <td>DRIVER LICENSE</td>\n",
       "      <td>Texas</td>\n",
       "      <td>CLASS C</td>\n",
       "      <td>79930</td>\n",
       "    </tr>\n",
       "    <tr>\n",
       "      <th>154489</th>\n",
       "      <td>15506999</td>\n",
       "      <td>1</td>\n",
       "      <td>1</td>\n",
       "      <td>DRIVER</td>\n",
       "      <td>FRONT LEFT</td>\n",
       "      <td>KILLED</td>\n",
       "      <td>57.0</td>\n",
       "      <td>BLACK</td>\n",
       "      <td>MALE</td>\n",
       "      <td>NO</td>\n",
       "      <td>...</td>\n",
       "      <td>0</td>\n",
       "      <td>0</td>\n",
       "      <td>0</td>\n",
       "      <td>0</td>\n",
       "      <td>0</td>\n",
       "      <td>1</td>\n",
       "      <td>COMMERCIAL DRIVER LIC.</td>\n",
       "      <td>Texas</td>\n",
       "      <td>CLASS A</td>\n",
       "      <td>75860</td>\n",
       "    </tr>\n",
       "    <tr>\n",
       "      <th>154992</th>\n",
       "      <td>15511556</td>\n",
       "      <td>1</td>\n",
       "      <td>1</td>\n",
       "      <td>DRIVER</td>\n",
       "      <td>FRONT LEFT</td>\n",
       "      <td>KILLED</td>\n",
       "      <td>88.0</td>\n",
       "      <td>WHITE</td>\n",
       "      <td>MALE</td>\n",
       "      <td>NO</td>\n",
       "      <td>...</td>\n",
       "      <td>0</td>\n",
       "      <td>0</td>\n",
       "      <td>0</td>\n",
       "      <td>0</td>\n",
       "      <td>0</td>\n",
       "      <td>1</td>\n",
       "      <td>DRIVER LICENSE</td>\n",
       "      <td>Texas</td>\n",
       "      <td>CLASS C</td>\n",
       "      <td>79057</td>\n",
       "    </tr>\n",
       "    <tr>\n",
       "      <th>155420</th>\n",
       "      <td>15515080</td>\n",
       "      <td>2</td>\n",
       "      <td>1</td>\n",
       "      <td>PEDESTRIAN</td>\n",
       "      <td>PEDESTRIAN, PEDALCYCLIST, OR MOTORIZED CONVEYANCE</td>\n",
       "      <td>KILLED</td>\n",
       "      <td>41.0</td>\n",
       "      <td>WHITE</td>\n",
       "      <td>MALE</td>\n",
       "      <td>NOT APPLICABLE</td>\n",
       "      <td>...</td>\n",
       "      <td>0</td>\n",
       "      <td>0</td>\n",
       "      <td>0</td>\n",
       "      <td>0</td>\n",
       "      <td>0</td>\n",
       "      <td>1</td>\n",
       "      <td>DRIVER LICENSE</td>\n",
       "      <td>Texas</td>\n",
       "      <td>CLASS C</td>\n",
       "      <td>77662</td>\n",
       "    </tr>\n",
       "  </tbody>\n",
       "</table>\n",
       "<p>182 rows × 32 columns</p>\n",
       "</div>"
      ],
      "text/plain": [
       "        CRASH_ID  UNIT_NBR  PRSN_NBR PRSN_TYPE_ID  \\\n",
       "1187    14848300         2         1       DRIVER   \n",
       "2079    14851818         2         1       DRIVER   \n",
       "2121    14851954         2         1       DRIVER   \n",
       "2314    14852533         2         1   PEDESTRIAN   \n",
       "2644    14854567         3         1       DRIVER   \n",
       "...          ...       ...       ...          ...   \n",
       "153982  15502739         2         1   PEDESTRIAN   \n",
       "154124  15503748         1         1       DRIVER   \n",
       "154489  15506999         1         1       DRIVER   \n",
       "154992  15511556         1         1       DRIVER   \n",
       "155420  15515080         2         1   PEDESTRIAN   \n",
       "\n",
       "                                       PRSN_OCCPNT_POS_ID PRSN_INJRY_SEV_ID  \\\n",
       "1187                                           FRONT LEFT            KILLED   \n",
       "2079                                           FRONT LEFT            KILLED   \n",
       "2121                                           FRONT LEFT            KILLED   \n",
       "2314    PEDESTRIAN, PEDALCYCLIST, OR MOTORIZED CONVEYANCE            KILLED   \n",
       "2644                                           FRONT LEFT            KILLED   \n",
       "...                                                   ...               ...   \n",
       "153982  PEDESTRIAN, PEDALCYCLIST, OR MOTORIZED CONVEYANCE            KILLED   \n",
       "154124                                         FRONT LEFT            KILLED   \n",
       "154489                                         FRONT LEFT            KILLED   \n",
       "154992                                         FRONT LEFT            KILLED   \n",
       "155420  PEDESTRIAN, PEDALCYCLIST, OR MOTORIZED CONVEYANCE            KILLED   \n",
       "\n",
       "        PRSN_AGE PRSN_ETHNICITY_ID PRSN_GNDR_ID    PRSN_EJCT_ID  ...  \\\n",
       "1187        38.0             WHITE         MALE              NO  ...   \n",
       "2079        29.0          HISPANIC         MALE              NO  ...   \n",
       "2121        26.0             WHITE         MALE              NO  ...   \n",
       "2314        37.0             BLACK         MALE  NOT APPLICABLE  ...   \n",
       "2644        77.0             BLACK         MALE              NO  ...   \n",
       "...          ...               ...          ...             ...  ...   \n",
       "153982      53.0             WHITE         MALE  NOT APPLICABLE  ...   \n",
       "154124      97.0          HISPANIC         MALE              NO  ...   \n",
       "154489      57.0             BLACK         MALE              NO  ...   \n",
       "154992      88.0             WHITE         MALE              NO  ...   \n",
       "155420      41.0             WHITE         MALE  NOT APPLICABLE  ...   \n",
       "\n",
       "       NONINCAP_INJRY_CNT POSS_INJRY_CNT NON_INJRY_CNT UNKN_INJRY_CNT  \\\n",
       "1187                    0              0             0              0   \n",
       "2079                    0              0             0              0   \n",
       "2121                    0              0             0              0   \n",
       "2314                    0              0             0              0   \n",
       "2644                    0              0             0              0   \n",
       "...                   ...            ...           ...            ...   \n",
       "153982                  0              0             0              0   \n",
       "154124                  0              0             0              0   \n",
       "154489                  0              0             0              0   \n",
       "154992                  0              0             0              0   \n",
       "155420                  0              0             0              0   \n",
       "\n",
       "       TOT_INJRY_CNT DEATH_CNT        DRVR_LIC_TYPE_ID DRVR_LIC_STATE_ID  \\\n",
       "1187               0         1          DRIVER LICENSE             Texas   \n",
       "2079               0         1          DRIVER LICENSE             Texas   \n",
       "2121               0         1          DRIVER LICENSE             Texas   \n",
       "2314               0         1          DRIVER LICENSE       Mississippi   \n",
       "2644               0         1          DRIVER LICENSE             Texas   \n",
       "...              ...       ...                     ...               ...   \n",
       "153982             0         1          DRIVER LICENSE             Texas   \n",
       "154124             0         1          DRIVER LICENSE             Texas   \n",
       "154489             0         1  COMMERCIAL DRIVER LIC.             Texas   \n",
       "154992             0         1          DRIVER LICENSE             Texas   \n",
       "155420             0         1          DRIVER LICENSE             Texas   \n",
       "\n",
       "           DRVR_LIC_CLS_ID DRVR_ZIP  \n",
       "1187               CLASS C    76574  \n",
       "2079               CLASS C    78202  \n",
       "2121               CLASS C    79849  \n",
       "2314    OTHER/OUT OF STATE    38930  \n",
       "2644               CLASS C    77412  \n",
       "...                    ...      ...  \n",
       "153982             CLASS C    78745  \n",
       "154124             CLASS C    79930  \n",
       "154489             CLASS A    75860  \n",
       "154992             CLASS C    79057  \n",
       "155420             CLASS C    77662  \n",
       "\n",
       "[182 rows x 32 columns]"
      ]
     },
     "execution_count": 43,
     "metadata": {},
     "output_type": "execute_result"
    }
   ],
   "source": [
    "# Step 1: Filter for male records\n",
    "male_deaths = primper_df[\n",
    "    (primper_df['PRSN_GNDR_ID'] == 'MALE') & (primper_df['PRSN_INJRY_SEV_ID'] == \"KILLED\")\n",
    "]\n",
    "\n",
    "male_deaths"
   ]
  },
  {
   "cell_type": "code",
   "execution_count": 44,
   "metadata": {},
   "outputs": [
    {
     "data": {
      "text/plain": [
       "157    2\n",
       "149    2\n",
       "0      1\n",
       "1      1\n",
       "4      1\n",
       "      ..\n",
       "175    1\n",
       "176    1\n",
       "177    1\n",
       "178    1\n",
       "179    1\n",
       "Name: DEATH_CNT, Length: 180, dtype: int64"
      ]
     },
     "execution_count": 44,
     "metadata": {},
     "output_type": "execute_result"
    }
   ],
   "source": [
    "# Step 2: Group by CRASH_ID and sum the DEATH_CNT for each crash\n",
    "crash_male_death_count = male_deaths.groupby('CRASH_ID')['DEATH_CNT'].count().reset_index()\n",
    "\n",
    "crash_male_death_count[\"DEATH_CNT\"].sort_values(ascending=False)"
   ]
  },
  {
   "cell_type": "code",
   "execution_count": 45,
   "metadata": {},
   "outputs": [
    {
     "data": {
      "text/html": [
       "<div>\n",
       "<style scoped>\n",
       "    .dataframe tbody tr th:only-of-type {\n",
       "        vertical-align: middle;\n",
       "    }\n",
       "\n",
       "    .dataframe tbody tr th {\n",
       "        vertical-align: top;\n",
       "    }\n",
       "\n",
       "    .dataframe thead th {\n",
       "        text-align: right;\n",
       "    }\n",
       "</style>\n",
       "<table border=\"1\" class=\"dataframe\">\n",
       "  <thead>\n",
       "    <tr style=\"text-align: right;\">\n",
       "      <th></th>\n",
       "      <th>CRASH_ID</th>\n",
       "      <th>DEATH_CNT</th>\n",
       "    </tr>\n",
       "  </thead>\n",
       "  <tbody>\n",
       "  </tbody>\n",
       "</table>\n",
       "</div>"
      ],
      "text/plain": [
       "Empty DataFrame\n",
       "Columns: [CRASH_ID, DEATH_CNT]\n",
       "Index: []"
      ]
     },
     "execution_count": 45,
     "metadata": {},
     "output_type": "execute_result"
    }
   ],
   "source": [
    "# Step 3: Filter for crashes where the male death count is greater than 2\n",
    "crashes_with_more_than_2_male_deaths = crash_male_death_count[crash_male_death_count['DEATH_CNT'] > 2]\n",
    "\n",
    "crashes_with_more_than_2_male_deaths"
   ]
  },
  {
   "cell_type": "code",
   "execution_count": 46,
   "metadata": {},
   "outputs": [
    {
     "name": "stdout",
     "output_type": "stream",
     "text": [
      "Number of crashes with more than 2 males killed: 0\n"
     ]
    }
   ],
   "source": [
    "# Step 4: Count the number of such crashes\n",
    "number_of_crashes = crashes_with_more_than_2_male_deaths['CRASH_ID'].nunique()\n",
    "\n",
    "print(\"Number of crashes with more than 2 males killed:\", number_of_crashes)"
   ]
  },
  {
   "cell_type": "code",
   "execution_count": 47,
   "metadata": {},
   "outputs": [
    {
     "name": "stdout",
     "output_type": "stream",
     "text": [
      "+--------+--------+--------+------------+------------------+--------------------+--------+-----------------+------------+------------+-------------------+-----------------+--------------+-----------+---------------------+----------------+------------------+---------------------+----------------+-----------------+---------------+---------------+------------------+--------------+-------------+--------------+-------------+---------+--------------------+-----------------+------------------+--------+\n",
      "|CRASH_ID|UNIT_NBR|PRSN_NBR|PRSN_TYPE_ID|PRSN_OCCPNT_POS_ID|   PRSN_INJRY_SEV_ID|PRSN_AGE|PRSN_ETHNICITY_ID|PRSN_GNDR_ID|PRSN_EJCT_ID|       PRSN_REST_ID|   PRSN_AIRBAG_ID|PRSN_HELMET_ID|PRSN_SOL_FL|PRSN_ALC_SPEC_TYPE_ID|PRSN_ALC_RSLT_ID|PRSN_BAC_TEST_RSLT|PRSN_DRG_SPEC_TYPE_ID|PRSN_DRG_RSLT_ID|DRVR_DRG_CAT_1_ID|PRSN_DEATH_TIME|INCAP_INJRY_CNT|NONINCAP_INJRY_CNT|POSS_INJRY_CNT|NON_INJRY_CNT|UNKN_INJRY_CNT|TOT_INJRY_CNT|DEATH_CNT|    DRVR_LIC_TYPE_ID|DRVR_LIC_STATE_ID|   DRVR_LIC_CLS_ID|DRVR_ZIP|\n",
      "+--------+--------+--------+------------+------------------+--------------------+--------+-----------------+------------+------------+-------------------+-----------------+--------------+-----------+---------------------+----------------+------------------+---------------------+----------------+-----------------+---------------+---------------+------------------+--------------+-------------+--------------+-------------+---------+--------------------+-----------------+------------------+--------+\n",
      "|14768622|       1|       1|      DRIVER|        FRONT LEFT|         NOT INJURED|      27|         HISPANIC|        MALE|          NO|               NONE|DEPLOYED MULTIPLE|NOT APPLICABLE|          N|                BLOOD|        Positive|             0.225|                 NONE|  NOT APPLICABLE|   NOT APPLICABLE|           NULL|              0|                 0|             0|            1|             0|            0|        0|      DRIVER LICENSE|            Texas|           CLASS C|   77357|\n",
      "|14838637|       1|       1|      DRIVER|        FRONT LEFT|         NOT INJURED|      31|            WHITE|        MALE|          NO|SHOULDER & LAP BELT|     NOT DEPLOYED|NOT APPLICABLE|          N|               BREATH|        Positive|              0.21|                 NONE|  NOT APPLICABLE|   NOT APPLICABLE|           NULL|              0|                 0|             0|            1|             0|            0|        0|      DRIVER LICENSE|         New York|OTHER/OUT OF STATE|   13830|\n",
      "|14838637|       2|       1|      DRIVER|        FRONT LEFT|         NOT INJURED|      41|            BLACK|        MALE|          NO|SHOULDER & LAP BELT|     NOT DEPLOYED|NOT APPLICABLE|          N|                 NONE|              NA|                NA|                 NONE|  NOT APPLICABLE|   NOT APPLICABLE|           NULL|              0|                 0|             0|            1|             0|            0|        0|COMMERCIAL DRIVER...|            Texas|           CLASS A|   78934|\n",
      "|14838641|       1|       1|      DRIVER|        FRONT LEFT|     POSSIBLE INJURY|      32|            WHITE|        MALE|          NO|SHOULDER & LAP BELT|DEPLOYED MULTIPLE|NOT APPLICABLE|          N|                 NONE|              NA|                NA|                 NONE|  NOT APPLICABLE|   NOT APPLICABLE|           NULL|              0|                 0|             1|            0|             0|            1|        0|      DRIVER LICENSE|            Texas|           CLASS C|   76520|\n",
      "|14838641|       2|       1|      DRIVER|        FRONT LEFT|NON-INCAPACITATIN...|      34|            BLACK|      FEMALE|          NO|SHOULDER & LAP BELT|DEPLOYED MULTIPLE|NOT APPLICABLE|          N|                 NONE|              NA|                NA|                 NONE|  NOT APPLICABLE|   NOT APPLICABLE|           NULL|              0|                 1|             0|            0|             0|            1|        0|             ID CARD|            Texas|        UNLICENSED|   76707|\n",
      "|14838668|       1|       1|      DRIVER|        FRONT LEFT|         NOT INJURED|      24|         HISPANIC|        MALE|          NO|SHOULDER & LAP BELT|  DEPLOYED, FRONT|NOT APPLICABLE|          N|               BREATH|        Positive|             0.178|                 NONE|  NOT APPLICABLE|   NOT APPLICABLE|           NULL|              0|                 0|             0|            1|             0|            0|        0|      DRIVER LICENSE|            Texas|           CLASS C|   78076|\n",
      "|14838669|       1|       1|      DRIVER|        FRONT LEFT|         NOT INJURED|      53|            WHITE|        MALE|          NO|SHOULDER & LAP BELT|     NOT DEPLOYED|NOT APPLICABLE|          N|                 NONE|              NA|                NA|                 NONE|  NOT APPLICABLE|   NOT APPLICABLE|           NULL|              0|                 0|             0|            1|             0|            0|        0|      DRIVER LICENSE|            Texas|           CLASS C|   76053|\n",
      "|14838669|       2|       1|      DRIVER|        FRONT LEFT|         NOT INJURED|      24|            WHITE|        MALE|          NO|            UNKNOWN|  DEPLOYED, FRONT|NOT APPLICABLE|          N|               BREATH|        Positive|             0.219|                 NONE|  NOT APPLICABLE|   NOT APPLICABLE|           NULL|              0|                 0|             0|            1|             0|            0|        0|      DRIVER LICENSE|            Texas|           CLASS C|   76118|\n",
      "|14838670|       1|       1|      DRIVER|        FRONT LEFT|         NOT INJURED|      23|            WHITE|        MALE|          NO|               NONE|     NOT DEPLOYED|NOT APPLICABLE|          N|                BLOOD|        Positive|              0.16|                BLOOD|         UNKNOWN|          UNKNOWN|           NULL|              0|                 0|             0|            1|             0|            0|        0|      DRIVER LICENSE|            Texas|           CLASS C|   75050|\n",
      "|14838685|       1|       1|      DRIVER|        FRONT LEFT|         NOT INJURED|      27|            BLACK|      FEMALE|          NO|SHOULDER & LAP BELT|     NOT DEPLOYED|NOT APPLICABLE|          N|                 NONE|              NA|                NA|                 NONE|  NOT APPLICABLE|   NOT APPLICABLE|           NULL|              0|                 0|             0|            1|             0|            0|        0|             ID CARD|            Texas|        UNLICENSED|   77033|\n",
      "|14838693|       1|       1|      DRIVER|        FRONT LEFT|         NOT INJURED|      52|         HISPANIC|        MALE|          NO|SHOULDER & LAP BELT|     NOT DEPLOYED|NOT APPLICABLE|          N|               BREATH|        Positive|             0.193|                 NONE|  NOT APPLICABLE|   NOT APPLICABLE|           NULL|              0|                 0|             0|            1|             0|            0|        0|      DRIVER LICENSE|            Texas|           CLASS C|   78564|\n",
      "|14838768|       1|       1|      DRIVER|        FRONT LEFT|         NOT INJURED|      20|            ASIAN|        MALE|          NO|SHOULDER & LAP BELT|DEPLOYED MULTIPLE|NOT APPLICABLE|          N|                 NONE|              NA|                NA|                 NONE|  NOT APPLICABLE|   NOT APPLICABLE|           NULL|              0|                 0|             0|            1|             0|            0|        0|      DRIVER LICENSE|       California|OTHER/OUT OF STATE|   77090|\n",
      "|14838768|       2|       1|      DRIVER|        FRONT LEFT|         NOT INJURED|      55|         HISPANIC|      FEMALE|          NO|SHOULDER & LAP BELT|     NOT DEPLOYED|NOT APPLICABLE|          N|                BLOOD|        Negative|                 0|                 NONE|  NOT APPLICABLE|   NOT APPLICABLE|           NULL|              0|                 0|             0|            1|             0|            0|        0|      DRIVER LICENSE|            Texas|           CLASS C|   77080|\n",
      "|14838834|       1|       1|      DRIVER|        FRONT LEFT|         NOT INJURED|      20|         HISPANIC|        MALE|          NO|            UNKNOWN|  DEPLOYED, FRONT|NOT APPLICABLE|          N|                 NONE|              NA|                NA|                 NONE|  NOT APPLICABLE|   NOT APPLICABLE|           NULL|              0|                 0|             0|            1|             0|            0|        0|             UNKNOWN|          Unknown|           UNKNOWN|   79107|\n",
      "|14838841|       1|       1|      DRIVER|        FRONT LEFT|         NOT INJURED|      25|         HISPANIC|      FEMALE|     UNKNOWN|            UNKNOWN|     NOT DEPLOYED|NOT APPLICABLE|          N|                 NONE|              NA|                NA|                 NONE|  NOT APPLICABLE|   NOT APPLICABLE|           NULL|              0|                 0|             0|            1|             0|            0|        0|      DRIVER LICENSE|            Texas|           CLASS C|   79412|\n",
      "|14838842|       1|       1|      DRIVER|        FRONT LEFT|         NOT INJURED|      41|         HISPANIC|      FEMALE|          NO|            UNKNOWN|     NOT DEPLOYED|NOT APPLICABLE|          N|                 NONE|              NA|                NA|                 NONE|  NOT APPLICABLE|   NOT APPLICABLE|           NULL|              0|                 0|             0|            1|             0|            0|        0|      DRIVER LICENSE|            Texas|           CLASS C|   79403|\n",
      "|14838842|       2|       1|      DRIVER|        FRONT LEFT|         NOT INJURED|      34|         HISPANIC|      FEMALE|          NO|SHOULDER & LAP BELT|     NOT DEPLOYED|NOT APPLICABLE|          N|                 NONE|              NA|                NA|                 NONE|  NOT APPLICABLE|   NOT APPLICABLE|           NULL|              0|                 0|             0|            1|             0|            0|        0|      DRIVER LICENSE|            Texas|           CLASS C|   79401|\n",
      "|14838866|       1|       1|      DRIVER|        FRONT LEFT|     POSSIBLE INJURY|      44|            WHITE|        MALE|          NO|SHOULDER & LAP BELT|  DEPLOYED, FRONT|NOT APPLICABLE|          N|                 NONE|              NA|                NA|                 NONE|  NOT APPLICABLE|   NOT APPLICABLE|           NULL|              0|                 0|             1|            0|             0|            1|        0|      DRIVER LICENSE|            Texas|           CLASS C|   76705|\n",
      "|14838877|       1|       1|      DRIVER|        FRONT LEFT|         NOT INJURED|      39|            WHITE|        MALE|          NO|               NONE|     NOT DEPLOYED|NOT APPLICABLE|          N|                BLOOD|        Positive|              0.21|                BLOOD|  NOT APPLICABLE|   NOT APPLICABLE|           NULL|              0|                 0|             0|            1|             0|            0|        0|      DRIVER LICENSE|            Texas|           CLASS C|   76247|\n",
      "|14838972|       1|       1|      DRIVER|        FRONT LEFT|         NOT INJURED|      59|            WHITE|        MALE|          NO|SHOULDER & LAP BELT|     NOT DEPLOYED|NOT APPLICABLE|          N|                 NONE|              NA|                NA|                 NONE|  NOT APPLICABLE|   NOT APPLICABLE|           NULL|              0|                 0|             0|            1|             0|            0|        0|      DRIVER LICENSE|            Texas|           CLASS C|   78578|\n",
      "+--------+--------+--------+------------+------------------+--------------------+--------+-----------------+------------+------------+-------------------+-----------------+--------------+-----------+---------------------+----------------+------------------+---------------------+----------------+-----------------+---------------+---------------+------------------+--------------+-------------+--------------+-------------+---------+--------------------+-----------------+------------------+--------+\n",
      "only showing top 20 rows\n",
      "\n"
     ]
    },
    {
     "ename": "TypeError",
     "evalue": "unsupported operand type(s) for +: 'int' and 'str'",
     "output_type": "error",
     "traceback": [
      "\u001b[1;31m---------------------------------------------------------------------------\u001b[0m",
      "\u001b[1;31mTypeError\u001b[0m                                 Traceback (most recent call last)",
      "Cell \u001b[1;32mIn[47], line 18\u001b[0m\n\u001b[0;32m     15\u001b[0m male_deaths \u001b[38;5;241m=\u001b[39m primary_person_df\u001b[38;5;241m.\u001b[39mfilter(col(\u001b[38;5;124m\"\u001b[39m\u001b[38;5;124mPRSN_GNDR_ID\u001b[39m\u001b[38;5;124m\"\u001b[39m) \u001b[38;5;241m==\u001b[39m \u001b[38;5;124m\"\u001b[39m\u001b[38;5;124mMALE\u001b[39m\u001b[38;5;124m\"\u001b[39m)\n\u001b[0;32m     17\u001b[0m \u001b[38;5;66;03m# Step 2: Group by CRASH_ID and sum the DEATH_CNT for each crash\u001b[39;00m\n\u001b[1;32m---> 18\u001b[0m crash_male_death_count \u001b[38;5;241m=\u001b[39m male_deaths\u001b[38;5;241m.\u001b[39mgroupBy(\u001b[38;5;124m\"\u001b[39m\u001b[38;5;124mCRASH_ID\u001b[39m\u001b[38;5;124m\"\u001b[39m)\u001b[38;5;241m.\u001b[39magg(\u001b[38;5;28;43msum\u001b[39;49m\u001b[43m(\u001b[49m\u001b[38;5;124;43m\"\u001b[39;49m\u001b[38;5;124;43mDEATH_CNT\u001b[39;49m\u001b[38;5;124;43m\"\u001b[39;49m\u001b[43m)\u001b[49m\u001b[38;5;241m.\u001b[39malias(\u001b[38;5;124m\"\u001b[39m\u001b[38;5;124mtotal_male_deaths\u001b[39m\u001b[38;5;124m\"\u001b[39m))\n\u001b[0;32m     20\u001b[0m \u001b[38;5;66;03m# Step 3: Filter for crashes where the male death count is greater than 2\u001b[39;00m\n\u001b[0;32m     21\u001b[0m crashes_with_more_than_2_male_deaths \u001b[38;5;241m=\u001b[39m crash_male_death_count\u001b[38;5;241m.\u001b[39mfilter(col(\u001b[38;5;124m\"\u001b[39m\u001b[38;5;124mtotal_male_deaths\u001b[39m\u001b[38;5;124m\"\u001b[39m) \u001b[38;5;241m>\u001b[39m \u001b[38;5;241m2\u001b[39m)\n",
      "\u001b[1;31mTypeError\u001b[0m: unsupported operand type(s) for +: 'int' and 'str'"
     ]
    }
   ],
   "source": [
    "import os\n",
    "from pyspark.sql import SparkSession\n",
    "from pyspark.sql.functions import col\n",
    "\n",
    "spark = SparkSession.builder.getOrCreate()\n",
    "\n",
    "input_path = os.path.join(\n",
    "            os.path.dirname(os.getcwd()), \"data\", \"input\")\n",
    "\n",
    "primary_person_path = f\"{input_path}\\Primary_Person_use.csv\"\n",
    "primary_person_df = spark.read.csv(primary_person_path, header=True)\n",
    "primary_person_df.show()\n",
    "\n",
    "# Step 1: Filter for male records\n",
    "male_deaths = primary_person_df.filter(col(\"PRSN_GNDR_ID\") == \"MALE\")\n",
    "\n",
    "# Step 2: Group by CRASH_ID and sum the DEATH_CNT for each crash\n",
    "crash_male_death_count = male_deaths.groupBy(\"CRASH_ID\").agg(sum(\"DEATH_CNT\").alias(\"total_male_deaths\"))\n",
    "\n",
    "# Step 3: Filter for crashes where the male death count is greater than 2\n",
    "crashes_with_more_than_2_male_deaths = crash_male_death_count.filter(col(\"total_male_deaths\") > 2)\n",
    "\n",
    "# Step 4: Count the number of such crashes\n",
    "number_of_crashes = crashes_with_more_than_2_male_deaths.count()\n",
    "\n",
    "print(\"Number of crashes with more than 2 males killed:\", number_of_crashes)\n",
    "spark.stop()"
   ]
  },
  {
   "cell_type": "markdown",
   "metadata": {},
   "source": []
  },
  {
   "cell_type": "markdown",
   "metadata": {},
   "source": []
  }
 ],
 "metadata": {
  "kernelspec": {
   "display_name": "venvbcg",
   "language": "python",
   "name": "python3"
  },
  "language_info": {
   "codemirror_mode": {
    "name": "ipython",
    "version": 3
   },
   "file_extension": ".py",
   "mimetype": "text/x-python",
   "name": "python",
   "nbconvert_exporter": "python",
   "pygments_lexer": "ipython3",
   "version": "3.9.12"
  }
 },
 "nbformat": 4,
 "nbformat_minor": 2
}
